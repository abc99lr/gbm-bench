{
 "cells": [
  {
   "cell_type": "markdown",
   "metadata": {},
   "source": [
    "# Random Forest Bench\n"
   ]
  },
  {
   "cell_type": "code",
   "execution_count": 1,
   "metadata": {},
   "outputs": [],
   "source": [
    "import cudf\n",
    "import cuml\n",
    "import sklearn as skl \n",
    "from cuml import RandomForestClassifier as cuRF\n",
    "from sklearn.ensemble import RandomForestClassifier as sklRF\n",
    "from sklearn.metrics import accuracy_score\n",
    "from sklearn.model_selection import train_test_split\n",
    "import numpy as np\n",
    "import pandas as pd\n",
    "import os\n",
    "from urllib.request import urlretrieve\n",
    "import gzip\n",
    "from cuml import ForestInference\n",
    "import time\n",
    "from numba import cuda\n"
   ]
  },
  {
   "cell_type": "code",
   "execution_count": 2,
   "metadata": {},
   "outputs": [
    {
     "name": "stdout",
     "output_type": "stream",
     "text": [
      "cudf version:  0.10.0a+810.g50a9dc7\n",
      "cuml version:  0.9.0a1+1074.g42be3ac.dirty\n",
      "skl version:  0.21.2\n"
     ]
    }
   ],
   "source": [
    "print(\"cudf version: \", cudf.__version__)\n",
    "print(\"cuml version: \", cuml.__version__)\n",
    "print(\"skl version: \", skl.__version__)"
   ]
  },
  {
   "cell_type": "markdown",
   "metadata": {},
   "source": [
    "## Main benchmarkingfunction"
   ]
  },
  {
   "cell_type": "code",
   "execution_count": 3,
   "metadata": {},
   "outputs": [],
   "source": [
    "def start_bench(run_cuml, run_skl, skip_test, estimator_array, stream_array, depth_array, csv_path, X_train, y_train, X_train_np, y_train_np, X_test_np, y_test_np):\n",
    "    results = []\n",
    "    for n_estimators in estimator_array:\n",
    "        for n_streams in stream_array:\n",
    "            for max_depth in depth_array:\n",
    "                # cuml Random Forest params\n",
    "                cu_rf_params = {\n",
    "                    'n_estimators': n_estimators,\n",
    "                    'max_depth': max_depth,\n",
    "                    'n_bins': 16,\n",
    "                    'split_algo': 1,\n",
    "                    'n_streams': n_streams\n",
    "                }\n",
    "\n",
    "                cu_fit_time = 0\n",
    "                skl_fit_time = 0\n",
    "                acc_score_cuml = 0\n",
    "                acc_score_skl = 0\n",
    "\n",
    "                if run_cuml:\n",
    "                    print(\"====>cuml====\")\n",
    "                    cuml_params = cu_rf_params.copy()\n",
    "                    print(\"    cuml params: \", str(cuml_params))\n",
    "                    cu_rf = cuRF(**cu_rf_params)\n",
    "                    print(\"    cuml model: \", str(cu_rf.get_params()))\n",
    "\n",
    "                    t0 = time.time()\n",
    "                    cu_rf.fit(X_train, y_train)\n",
    "                    cu_fit_time = time.time() - t0\n",
    "\n",
    "                    print(\"    cuml fits RF: \", cu_fit_time)\n",
    "\n",
    "                    if not skip_test:\n",
    "                        # use a subset of test data to inference \n",
    "                        cu_rf_predicted = cu_rf.predict(X_test_np[:1000, :])\n",
    "                        acc_score_cuml = accuracy_score(cu_rf_predicted, y_test_np[:1000])\n",
    "                        print(\"    cuml total time: \", time.time() - t0)\n",
    "                        print(\"    cuml acc: \", acc_score_cuml)\n",
    "\n",
    "                if run_skl and n_streams == 8:\n",
    "                    print(\"====>sklearn====\")\n",
    "                    sk_params = cu_rf_params.copy()\n",
    "                    print(\"    skl params: \", str(cuml_params))\n",
    "\n",
    "                    sk_params['n_jobs'] = -1\n",
    "                    del sk_params['n_bins']\n",
    "                    del sk_params['split_algo']\n",
    "                    if 'n_streams' in sk_params:\n",
    "                        del sk_params['n_streams']                \n",
    "                    rfc = sklRF(**sk_params)\n",
    "\n",
    "                    t0 = time.time()\n",
    "                    rfc.fit(X_train_np, y_train_np)\n",
    "                    skl_fit_time = time.time() - t0\n",
    "\n",
    "                    print(\"    skl fits RF: \", skl_fit_time)\n",
    "                    \n",
    "                    if not skip_test:\n",
    "                        skl_predicted = rfc.predict(X_test_np[:1000, :])\n",
    "                        acc_score_skl = accuracy_score(skl_predicted, y_test_np[:1000])                \n",
    "                        print(\"    skl total time: \", time.time() - t0)\n",
    "                        print(\"    skl acc: \", acc_score_skl)\n",
    "\n",
    "                pd.set_option('display.max_colwidth', 300)\n",
    "                results.append(dict(cu_fit_time=cu_fit_time, acc_score_cuml=acc_score_cuml, skl_fit_time=skl_fit_time, acc_score_skl=acc_score_skl))\n",
    "                df = pd.DataFrame(results)\n",
    "                print(df.to_string())\n",
    "                df.to_csv(csv_path, mode='a')"
   ]
  },
  {
   "cell_type": "markdown",
   "metadata": {},
   "source": [
    "## Helper functions"
   ]
  },
  {
   "cell_type": "code",
   "execution_count": 4,
   "metadata": {},
   "outputs": [],
   "source": [
    "def download_higgs(compressed_filepath, decompressed_filepath):\n",
    "    higgs_url = 'https://archive.ics.uci.edu/ml/machine-learning-databases/00280/HIGGS.csv.gz'\n",
    "    if not os.path.isfile(compressed_filepath):\n",
    "        urlretrieve(higgs_url, compressed_filepath)\n",
    "    if not os.path.isfile(decompressed_filepath):\n",
    "        cf = gzip.GzipFile(compressed_filepath)\n",
    "        with open(decompressed_filepath, 'wb') as df:\n",
    "            df.write(cf.read())"
   ]
  },
  {
   "cell_type": "markdown",
   "metadata": {},
   "source": [
    "## Higgs"
   ]
  },
  {
   "cell_type": "code",
   "execution_count": 5,
   "metadata": {},
   "outputs": [
    {
     "name": "stdout",
     "output_type": "stream",
     "text": [
      "Shape of the training data :  (8800000, 28)\n",
      "Shape of the ground truth data used for training :  (8800000,)\n",
      "Shape of the testing data :  (2200000, 28)\n",
      "Shape of the ground truth data used for testing :  (2200000,)\n"
     ]
    }
   ],
   "source": [
    "# compressed_filepath = 'HIGGS.csv.gz' # Set this as path for gzipped Higgs data file, if you already have\n",
    "decompressed_filepath = './HIGGS.csv' # Set this as path for decompressed Higgs data file, if you already have\n",
    "# download_higgs(compressed_filepath, decompressed_filepath)\n",
    "\n",
    "col_names = ['label'] + [\"col-{}\".format(i) for i in range(2, 30)] # Assign column names\n",
    "dtypes_ls = ['int32'] + ['float32' for _ in range(2, 30)] # Assign dtypes to each column\n",
    "data = cudf.read_csv(decompressed_filepath, names=col_names, dtype=dtypes_ls)\n",
    "\n",
    "y_cudf = data['label']\n",
    "X_cudf = data.drop('label')\n",
    "from cuml.preprocessing.model_selection import train_test_split\n",
    "# train_size is the ratio of the entire dataset to be split into training data\n",
    "X_train, X_test, y_train, y_test = train_test_split(X_cudf, y_cudf, train_size=0.80)\n",
    "\n",
    "print(\"Shape of the training data : \", X_train.shape)\n",
    "print(\"Shape of the ground truth data used for training : \", y_train.shape)\n",
    "print(\"Shape of the testing data : \", X_test.shape)\n",
    "print(\"Shape of the ground truth data used for testing : \",y_test.shape)\n",
    "\n",
    "X_train_np = X_train.as_matrix()\n",
    "y_train_np = y_train.to_array()\n",
    "X_test_np = X_test.as_matrix()\n",
    "y_test_np = y_test.to_array()"
   ]
  },
  {
   "cell_type": "code",
   "execution_count": 6,
   "metadata": {},
   "outputs": [
    {
     "data": {
      "text/html": [
       "<div>\n",
       "<style scoped>\n",
       "    .dataframe tbody tr th:only-of-type {\n",
       "        vertical-align: middle;\n",
       "    }\n",
       "\n",
       "    .dataframe tbody tr th {\n",
       "        vertical-align: top;\n",
       "    }\n",
       "\n",
       "    .dataframe thead th {\n",
       "        text-align: right;\n",
       "    }\n",
       "</style>\n",
       "<table border=\"1\" class=\"dataframe\">\n",
       "  <thead>\n",
       "    <tr style=\"text-align: right;\">\n",
       "      <th></th>\n",
       "      <th>label</th>\n",
       "      <th>col-2</th>\n",
       "      <th>col-3</th>\n",
       "      <th>col-4</th>\n",
       "      <th>col-5</th>\n",
       "      <th>col-6</th>\n",
       "      <th>col-7</th>\n",
       "      <th>col-8</th>\n",
       "      <th>col-9</th>\n",
       "      <th>col-10</th>\n",
       "      <th>...</th>\n",
       "      <th>col-20</th>\n",
       "      <th>col-21</th>\n",
       "      <th>col-22</th>\n",
       "      <th>col-23</th>\n",
       "      <th>col-24</th>\n",
       "      <th>col-25</th>\n",
       "      <th>col-26</th>\n",
       "      <th>col-27</th>\n",
       "      <th>col-28</th>\n",
       "      <th>col-29</th>\n",
       "    </tr>\n",
       "  </thead>\n",
       "  <tbody>\n",
       "    <tr>\n",
       "      <th>0</th>\n",
       "      <td>1</td>\n",
       "      <td>0.869293</td>\n",
       "      <td>-0.635082</td>\n",
       "      <td>0.225690</td>\n",
       "      <td>0.327470</td>\n",
       "      <td>-0.689993</td>\n",
       "      <td>0.754202</td>\n",
       "      <td>-0.248573</td>\n",
       "      <td>-1.092064</td>\n",
       "      <td>0.000000</td>\n",
       "      <td>...</td>\n",
       "      <td>-0.010455</td>\n",
       "      <td>-0.045767</td>\n",
       "      <td>3.101961</td>\n",
       "      <td>1.353760</td>\n",
       "      <td>0.979563</td>\n",
       "      <td>0.978076</td>\n",
       "      <td>0.920005</td>\n",
       "      <td>0.721657</td>\n",
       "      <td>0.988751</td>\n",
       "      <td>0.876678</td>\n",
       "    </tr>\n",
       "    <tr>\n",
       "      <th>1</th>\n",
       "      <td>1</td>\n",
       "      <td>0.907542</td>\n",
       "      <td>0.329147</td>\n",
       "      <td>0.359412</td>\n",
       "      <td>1.497970</td>\n",
       "      <td>-0.313010</td>\n",
       "      <td>1.095531</td>\n",
       "      <td>-0.557525</td>\n",
       "      <td>-1.588230</td>\n",
       "      <td>2.173076</td>\n",
       "      <td>...</td>\n",
       "      <td>-1.138930</td>\n",
       "      <td>-0.000819</td>\n",
       "      <td>0.000000</td>\n",
       "      <td>0.302220</td>\n",
       "      <td>0.833048</td>\n",
       "      <td>0.985700</td>\n",
       "      <td>0.978098</td>\n",
       "      <td>0.779732</td>\n",
       "      <td>0.992356</td>\n",
       "      <td>0.798343</td>\n",
       "    </tr>\n",
       "    <tr>\n",
       "      <th>2</th>\n",
       "      <td>1</td>\n",
       "      <td>0.798835</td>\n",
       "      <td>1.470639</td>\n",
       "      <td>-1.635975</td>\n",
       "      <td>0.453773</td>\n",
       "      <td>0.425629</td>\n",
       "      <td>1.104875</td>\n",
       "      <td>1.282323</td>\n",
       "      <td>1.381664</td>\n",
       "      <td>0.000000</td>\n",
       "      <td>...</td>\n",
       "      <td>1.128848</td>\n",
       "      <td>0.900461</td>\n",
       "      <td>0.000000</td>\n",
       "      <td>0.909753</td>\n",
       "      <td>1.108331</td>\n",
       "      <td>0.985692</td>\n",
       "      <td>0.951331</td>\n",
       "      <td>0.803251</td>\n",
       "      <td>0.865924</td>\n",
       "      <td>0.780118</td>\n",
       "    </tr>\n",
       "    <tr>\n",
       "      <th>3</th>\n",
       "      <td>0</td>\n",
       "      <td>1.344385</td>\n",
       "      <td>-0.876626</td>\n",
       "      <td>0.935913</td>\n",
       "      <td>1.992050</td>\n",
       "      <td>0.882454</td>\n",
       "      <td>1.786066</td>\n",
       "      <td>-1.646778</td>\n",
       "      <td>-0.942383</td>\n",
       "      <td>0.000000</td>\n",
       "      <td>...</td>\n",
       "      <td>-0.678379</td>\n",
       "      <td>-1.360356</td>\n",
       "      <td>0.000000</td>\n",
       "      <td>0.946652</td>\n",
       "      <td>1.028704</td>\n",
       "      <td>0.998656</td>\n",
       "      <td>0.728281</td>\n",
       "      <td>0.869200</td>\n",
       "      <td>1.026736</td>\n",
       "      <td>0.957904</td>\n",
       "    </tr>\n",
       "    <tr>\n",
       "      <th>4</th>\n",
       "      <td>1</td>\n",
       "      <td>1.105009</td>\n",
       "      <td>0.321356</td>\n",
       "      <td>1.522401</td>\n",
       "      <td>0.882808</td>\n",
       "      <td>-1.205349</td>\n",
       "      <td>0.681466</td>\n",
       "      <td>-1.070464</td>\n",
       "      <td>-0.921871</td>\n",
       "      <td>0.000000</td>\n",
       "      <td>...</td>\n",
       "      <td>-0.373566</td>\n",
       "      <td>0.113041</td>\n",
       "      <td>0.000000</td>\n",
       "      <td>0.755856</td>\n",
       "      <td>1.361057</td>\n",
       "      <td>0.986610</td>\n",
       "      <td>0.838085</td>\n",
       "      <td>1.133295</td>\n",
       "      <td>0.872245</td>\n",
       "      <td>0.808486</td>\n",
       "    </tr>\n",
       "  </tbody>\n",
       "</table>\n",
       "<p>5 rows × 29 columns</p>\n",
       "</div>"
      ],
      "text/plain": [
       "   label     col-2     col-3     col-4     col-5     col-6     col-7  \\\n",
       "0      1  0.869293 -0.635082  0.225690  0.327470 -0.689993  0.754202   \n",
       "1      1  0.907542  0.329147  0.359412  1.497970 -0.313010  1.095531   \n",
       "2      1  0.798835  1.470639 -1.635975  0.453773  0.425629  1.104875   \n",
       "3      0  1.344385 -0.876626  0.935913  1.992050  0.882454  1.786066   \n",
       "4      1  1.105009  0.321356  1.522401  0.882808 -1.205349  0.681466   \n",
       "\n",
       "      col-8     col-9    col-10  ...    col-20    col-21    col-22    col-23  \\\n",
       "0 -0.248573 -1.092064  0.000000  ... -0.010455 -0.045767  3.101961  1.353760   \n",
       "1 -0.557525 -1.588230  2.173076  ... -1.138930 -0.000819  0.000000  0.302220   \n",
       "2  1.282323  1.381664  0.000000  ...  1.128848  0.900461  0.000000  0.909753   \n",
       "3 -1.646778 -0.942383  0.000000  ... -0.678379 -1.360356  0.000000  0.946652   \n",
       "4 -1.070464 -0.921871  0.000000  ... -0.373566  0.113041  0.000000  0.755856   \n",
       "\n",
       "     col-24    col-25    col-26    col-27    col-28    col-29  \n",
       "0  0.979563  0.978076  0.920005  0.721657  0.988751  0.876678  \n",
       "1  0.833048  0.985700  0.978098  0.779732  0.992356  0.798343  \n",
       "2  1.108331  0.985692  0.951331  0.803251  0.865924  0.780118  \n",
       "3  1.028704  0.998656  0.728281  0.869200  1.026736  0.957904  \n",
       "4  1.361057  0.986610  0.838085  1.133295  0.872245  0.808486  \n",
       "\n",
       "[5 rows x 29 columns]"
      ]
     },
     "execution_count": 6,
     "metadata": {},
     "output_type": "execute_result"
    }
   ],
   "source": [
    "data.head().to_pandas()"
   ]
  },
  {
   "cell_type": "code",
   "execution_count": null,
   "metadata": {},
   "outputs": [
    {
     "name": "stdout",
     "output_type": "stream",
     "text": [
      "====>cuml====\n",
      "    cuml params:  {'n_estimators': 100, 'max_depth': 8, 'n_bins': 16, 'split_algo': 1, 'n_streams': 8}\n",
      "    cuml model:  {'n_estimators': 100, 'max_depth': 8, 'handle': <cuml.common.handle.Handle object at 0x7f18241dad20>, 'max_features': 1.0, 'n_bins': 16, 'split_algo': 1, 'split_criterion': 0, 'min_rows_per_node': 2, 'bootstrap': True, 'bootstrap_features': False, 'verbose': False, 'rows_sample': 1.0, 'max_leaves': -1, 'quantile_per_tree': False}\n"
     ]
    },
    {
     "name": "stderr",
     "output_type": "stream",
     "text": [
      "/gpfs/fs1/rlan/anaconda3/envs/cuml_rf_bench/lib/python3.7/site-packages/ipykernel_launcher.py:28: UserWarning: Using NumPy for number of class detection,install CuPy for faster processing.\n"
     ]
    },
    {
     "name": "stdout",
     "output_type": "stream",
     "text": [
      "    cuml fits RF:  10.489315032958984\n",
      "====>sklearn====\n",
      "    skl params:  {'n_estimators': 100, 'max_depth': 8, 'n_bins': 16, 'split_algo': 1, 'n_streams': 8}\n",
      "    skl fits RF:  199.35952138900757\n",
      "   acc_score_cuml  acc_score_skl  cu_fit_time  skl_fit_time\n",
      "0               0              0    10.489315    199.359521\n",
      "====>cuml====\n",
      "    cuml params:  {'n_estimators': 100, 'max_depth': 12, 'n_bins': 16, 'split_algo': 1, 'n_streams': 8}\n",
      "    cuml model:  {'n_estimators': 100, 'max_depth': 12, 'handle': <cuml.common.handle.Handle object at 0x7f1821e59c30>, 'max_features': 1.0, 'n_bins': 16, 'split_algo': 1, 'split_criterion': 0, 'min_rows_per_node': 2, 'bootstrap': True, 'bootstrap_features': False, 'verbose': False, 'rows_sample': 1.0, 'max_leaves': -1, 'quantile_per_tree': False}\n"
     ]
    },
    {
     "name": "stderr",
     "output_type": "stream",
     "text": [
      "/gpfs/fs1/rlan/anaconda3/envs/cuml_rf_bench/lib/python3.7/site-packages/ipykernel_launcher.py:28: UserWarning: Using NumPy for number of class detection,install CuPy for faster processing.\n"
     ]
    },
    {
     "name": "stdout",
     "output_type": "stream",
     "text": [
      "    cuml fits RF:  21.808729887008667\n",
      "====>sklearn====\n",
      "    skl params:  {'n_estimators': 100, 'max_depth': 12, 'n_bins': 16, 'split_algo': 1, 'n_streams': 8}\n"
     ]
    }
   ],
   "source": [
    "estimator_array = [100, 500, 1000]\n",
    "stream_array = [8, 10]\n",
    "depth_array = [8, 12, 16]\n",
    "run_cuml = True\n",
    "run_skl = True \n",
    "skip_test = True \n",
    "csv_path = './rf_bench_results/rf_bench_higgs.csv'\n",
    "\n",
    "start_bench(run_cuml, run_skl, skip_test, estimator_array, stream_array, depth_array, csv_path, X_train, y_train, X_train_np, y_train_np, X_test_np, y_test_np)"
   ]
  },
  {
   "cell_type": "markdown",
   "metadata": {},
   "source": [
    "## Airline"
   ]
  },
  {
   "cell_type": "code",
   "execution_count": null,
   "metadata": {
    "scrolled": true
   },
   "outputs": [],
   "source": [
    "from datasets import prepare_dataset\n",
    "\n",
    "data = prepare_dataset('./data/', 'airline', 115000000)\n",
    "\n",
    "X_train_np = data.X_train.to_numpy(np.float32)\n",
    "X_test_np = data.X_test.to_numpy(np.float32)\n",
    "y_train_np = data.y_train.to_numpy(np.int32)\n",
    "y_test_np = data.y_test.to_numpy(np.int32)\n",
    "\n",
    "print(\"Shape of the training data : \", X_train_np.shape)\n",
    "print(\"Shape of the ground truth data used for training : \", y_train_np.shape)\n",
    "print(\"Shape of the testing data : \", X_test_np.shape)\n",
    "print(\"Shape of the ground truth data used for testing : \",y_test_np.shape)"
   ]
  },
  {
   "cell_type": "code",
   "execution_count": null,
   "metadata": {},
   "outputs": [],
   "source": [
    "estimator_array = [100, 500, 1000]\n",
    "stream_array = [8, 10]\n",
    "depth_array = [8, 12, 16]\n",
    "run_cuml = True\n",
    "run_skl = True \n",
    "skip_test = True \n",
    "csv_path = './rf_bench_results/rf_bench_airline.csv'\n",
    "\n",
    "start_bench(run_cuml, run_skl, skip_test, estimator_array, stream_array, depth_array, csv_path, X_train_np, y_train_np, X_train_np, X_test_np, X_test_np, y_test_np)"
   ]
  },
  {
   "cell_type": "markdown",
   "metadata": {},
   "source": [
    "## Epsilon"
   ]
  },
  {
   "cell_type": "code",
   "execution_count": null,
   "metadata": {},
   "outputs": [],
   "source": [
    "from datasets import prepare_dataset\n",
    "\n",
    "data = prepare_dataset('./data/', 'epsilon', 500000)\n",
    "\n",
    "X_train_np = data.X_train.astype(np.float32)\n",
    "X_test_np = data.X_test.astype(np.float32)\n",
    "y_train_np = data.y_train.astype(np.int32)\n",
    "y_test_np = data.y_test.astype(np.int32)\n",
    "\n",
    "print(\"Shape of the training data : \", X_train_np.shape)\n",
    "print(\"Shape of the ground truth data used for training : \", y_train_np.shape)\n",
    "print(\"Shape of the testing data : \", X_test_np.shape)\n",
    "print(\"Shape of the ground truth data used for testing : \",y_test_np.shape)\n",
    "\n",
    "# X_train_g = cuda.to_device(np.ascontiguousarray(X_train_np))\n",
    "# X_train = cudf.DataFrame.from_gpu_matrix(X_train_g)\n",
    "# y_train_g = cuda.to_device(np.ascontiguousarray(y_train_np))\n",
    "# y_train = cudf.Series(y_train_g)"
   ]
  },
  {
   "cell_type": "code",
   "execution_count": null,
   "metadata": {},
   "outputs": [],
   "source": [
    "estimator_array = [100, 500, 1000]\n",
    "stream_array = [8, 10]\n",
    "depth_array = [8, 12, 16]\n",
    "run_cuml = True\n",
    "run_skl = True \n",
    "skip_test = True \n",
    "csv_path = './rf_bench_results/rf_bench_epsilon.csv'\n",
    "\n",
    "start_bench(run_cuml, run_skl, skip_test, estimator_array, stream_array, depth_array, csv_path, X_train_np, y_train_np, X_train_np, y_train_np, X_test_np, y_test_np)"
   ]
  },
  {
   "cell_type": "markdown",
   "metadata": {},
   "source": [
    "## Bosch"
   ]
  },
  {
   "cell_type": "code",
   "execution_count": null,
   "metadata": {},
   "outputs": [],
   "source": [
    "from datasets import prepare_dataset\n",
    "\n",
    "data = prepare_dataset('./data/', 'bosch', 1184000)\n",
    "\n",
    "X_train_np = data.X_train.to_numpy(np.float32)\n",
    "X_test_np = data.X_test.to_numpy(np.float32)\n",
    "y_train_np = data.y_train.to_numpy(np.int32)\n",
    "y_test_np = data.y_test.to_numpy(np.int32)\n",
    "\n",
    "print(\"Shape of the training data : \", X_train_np.shape)\n",
    "print(\"Shape of the ground truth data used for training : \", y_train_np.shape)\n",
    "print(\"Shape of the testing data : \", X_test_np.shape)\n",
    "print(\"Shape of the ground truth data used for testing : \",y_test_np.shape)\n",
    "\n",
    "# X_train_g = cuda.to_device(np.ascontiguousarray(X_train_np))\n",
    "# X_train = cudf.DataFrame.from_gpu_matrix(X_train_g)\n",
    "# y_train_g = cuda.to_device(np.ascontiguousarray(y_train_np))\n",
    "# y_train = cudf.Series(y_train_g)"
   ]
  },
  {
   "cell_type": "code",
   "execution_count": null,
   "metadata": {},
   "outputs": [],
   "source": [
    "estimator_array = [100, 500, 1000]\n",
    "stream_array = [8, 10]\n",
    "depth_array = [8, 12, 16]\n",
    "run_cuml = True\n",
    "run_skl = True \n",
    "skip_test = True \n",
    "csv_path = './rf_bench_results/rf_bench_bosch.csv'\n",
    "\n",
    "start_bench(run_cuml, run_skl, skip_test, estimator_array, stream_array, depth_array, csv_path, X_train_np, y_train_np, X_train_np, y_train_np, X_test_np, y_test_np)"
   ]
  },
  {
   "cell_type": "code",
   "execution_count": null,
   "metadata": {},
   "outputs": [],
   "source": []
  }
 ],
 "metadata": {
  "kernelspec": {
   "display_name": "Python 3",
   "language": "python",
   "name": "python3"
  },
  "language_info": {
   "codemirror_mode": {
    "name": "ipython",
    "version": 3
   },
   "file_extension": ".py",
   "mimetype": "text/x-python",
   "name": "python",
   "nbconvert_exporter": "python",
   "pygments_lexer": "ipython3",
   "version": "3.7.3"
  }
 },
 "nbformat": 4,
 "nbformat_minor": 2
}
