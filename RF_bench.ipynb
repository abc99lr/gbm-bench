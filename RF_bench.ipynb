{
 "cells": [
  {
   "cell_type": "markdown",
   "metadata": {},
   "source": [
    "# Random Forest Bench\n"
   ]
  },
  {
   "cell_type": "code",
   "execution_count": 1,
   "metadata": {},
   "outputs": [],
   "source": [
    "import cudf\n",
    "import cuml\n",
    "import sklearn as skl \n",
    "from cuml import RandomForestClassifier as cuRF\n",
    "from sklearn.ensemble import RandomForestClassifier as sklRF\n",
    "from sklearn.metrics import accuracy_score\n",
    "from sklearn.model_selection import train_test_split\n",
    "import numpy as np\n",
    "import pandas as pd\n",
    "import os\n",
    "from urllib.request import urlretrieve\n",
    "import gzip\n",
    "from cuml import ForestInference\n",
    "import time\n",
    "from numba import cuda\n"
   ]
  },
  {
   "cell_type": "code",
   "execution_count": 2,
   "metadata": {},
   "outputs": [
    {
     "name": "stdout",
     "output_type": "stream",
     "text": [
      "cudf version:  0.10.0a+810.g50a9dc7\n",
      "cuml version:  0.9.0a1+1074.g42be3ac.dirty\n",
      "skl version:  0.21.2\n"
     ]
    }
   ],
   "source": [
    "print(\"cudf version: \", cudf.__version__)\n",
    "print(\"cuml version: \", cuml.__version__)\n",
    "print(\"skl version: \", skl.__version__)"
   ]
  },
  {
   "cell_type": "markdown",
   "metadata": {},
   "source": [
    "## Main benchmarking function"
   ]
  },
  {
   "cell_type": "code",
   "execution_count": 3,
   "metadata": {},
   "outputs": [],
   "source": [
    "def start_bench(run_cuml, run_skl, skip_test, estimator_array, stream_array, depth_array, csv_path, X_train, y_train, X_train_np, y_train_np, X_test_np, y_test_np):\n",
    "    results = []\n",
    "    for n_estimators in estimator_array:\n",
    "        for n_streams in stream_array:\n",
    "            for max_depth in depth_array:\n",
    "                # cuml Random Forest params\n",
    "                cu_rf_params = {\n",
    "                    'n_estimators': n_estimators,\n",
    "                    'max_depth': max_depth,\n",
    "                    'n_bins': 16,\n",
    "                    'split_algo': 1,\n",
    "                    'n_streams': n_streams\n",
    "                }\n",
    "\n",
    "                cu_fit_time = 0\n",
    "                skl_fit_time = 0\n",
    "                acc_score_cuml = 0\n",
    "                acc_score_skl = 0\n",
    "\n",
    "                if run_cuml:\n",
    "                    print(\"====>cuml====\")\n",
    "                    cuml_params = cu_rf_params.copy()\n",
    "                    print(\"    cuml params: \", str(cuml_params))\n",
    "                    cu_rf = cuRF(**cu_rf_params)\n",
    "                    print(\"    cuml model: \", str(cu_rf.get_params()))\n",
    "\n",
    "                    t0 = time.time()\n",
    "                    cu_rf.fit(X_train, y_train)\n",
    "                    cu_fit_time = time.time() - t0\n",
    "\n",
    "                    print(\"    cuml fits RF: \", cu_fit_time)\n",
    "\n",
    "                    if not skip_test:\n",
    "                        # use a subset of test data to inference \n",
    "                        cu_rf_predicted = cu_rf.predict(X_test_np[:1000, :])\n",
    "                        acc_score_cuml = accuracy_score(cu_rf_predicted, y_test_np[:1000])\n",
    "                        print(\"    cuml total time: \", time.time() - t0)\n",
    "                        print(\"    cuml acc: \", acc_score_cuml)\n",
    "\n",
    "                if run_skl and n_streams == 8:\n",
    "                    print(\"====>sklearn====\")\n",
    "                    sk_params = cu_rf_params.copy()\n",
    "                    print(\"    skl params: \", str(cuml_params))\n",
    "\n",
    "                    sk_params['n_jobs'] = -1\n",
    "                    del sk_params['n_bins']\n",
    "                    del sk_params['split_algo']\n",
    "                    if 'n_streams' in sk_params:\n",
    "                        del sk_params['n_streams']                \n",
    "                    rfc = sklRF(**sk_params)\n",
    "\n",
    "                    t0 = time.time()\n",
    "                    rfc.fit(X_train_np, y_train_np)\n",
    "                    skl_fit_time = time.time() - t0\n",
    "\n",
    "                    print(\"    skl fits RF: \", skl_fit_time)\n",
    "                    \n",
    "                    if not skip_test:\n",
    "                        skl_predicted = rfc.predict(X_test_np[:1000, :])\n",
    "                        acc_score_skl = accuracy_score(skl_predicted, y_test_np[:1000])                \n",
    "                        print(\"    skl total time: \", time.time() - t0)\n",
    "                        print(\"    skl acc: \", acc_score_skl)\n",
    "\n",
    "                pd.set_option('display.max_colwidth', 300)\n",
    "                results.append(dict(cu_fit_time=cu_fit_time, acc_score_cuml=acc_score_cuml, skl_fit_time=skl_fit_time, acc_score_skl=acc_score_skl))\n",
    "                df = pd.DataFrame(results)\n",
    "                print(df.to_string())\n",
    "                df.to_csv(csv_path, mode='a')"
   ]
  },
  {
   "cell_type": "markdown",
   "metadata": {},
   "source": [
    "## Higgs"
   ]
  },
  {
   "cell_type": "code",
   "execution_count": 4,
   "metadata": {},
   "outputs": [],
   "source": [
    "def download_higgs(compressed_filepath, decompressed_filepath):\n",
    "    higgs_url = 'https://archive.ics.uci.edu/ml/machine-learning-databases/00280/HIGGS.csv.gz'\n",
    "    if not os.path.isfile(compressed_filepath):\n",
    "        urlretrieve(higgs_url, compressed_filepath)\n",
    "    if not os.path.isfile(decompressed_filepath):\n",
    "        cf = gzip.GzipFile(compressed_filepath)\n",
    "        with open(decompressed_filepath, 'wb') as df:\n",
    "            df.write(cf.read())"
   ]
  },
  {
   "cell_type": "code",
   "execution_count": 5,
   "metadata": {},
   "outputs": [
    {
     "name": "stdout",
     "output_type": "stream",
     "text": [
      "Shape of the training data :  (8800000, 28)\n",
      "Shape of the ground truth data used for training :  (8800000,)\n",
      "Shape of the testing data :  (2200000, 28)\n",
      "Shape of the ground truth data used for testing :  (2200000,)\n"
     ]
    }
   ],
   "source": [
    "# compressed_filepath = 'HIGGS.csv.gz' # Set this as path for gzipped Higgs data file, if you already have\n",
    "decompressed_filepath = './HIGGS.csv' # Set this as path for decompressed Higgs data file, if you already have\n",
    "# download_higgs(compressed_filepath, decompressed_filepath)\n",
    "\n",
    "col_names = ['label'] + [\"col-{}\".format(i) for i in range(2, 30)] # Assign column names\n",
    "dtypes_ls = ['int32'] + ['float32' for _ in range(2, 30)] # Assign dtypes to each column\n",
    "data = cudf.read_csv(decompressed_filepath, names=col_names, dtype=dtypes_ls)\n",
    "\n",
    "y_cudf = data['label']\n",
    "X_cudf = data.drop('label')\n",
    "from cuml.preprocessing.model_selection import train_test_split\n",
    "# train_size is the ratio of the entire dataset to be split into training data\n",
    "X_train, X_test, y_train, y_test = train_test_split(X_cudf, y_cudf, train_size=0.80)\n",
    "\n",
    "print(\"Shape of the training data : \", X_train.shape)\n",
    "print(\"Shape of the ground truth data used for training : \", y_train.shape)\n",
    "print(\"Shape of the testing data : \", X_test.shape)\n",
    "print(\"Shape of the ground truth data used for testing : \",y_test.shape)\n",
    "\n",
    "X_train_np = X_train.as_matrix()\n",
    "y_train_np = y_train.to_array()\n",
    "X_test_np = X_test.as_matrix()\n",
    "y_test_np = y_test.to_array()"
   ]
  },
  {
   "cell_type": "code",
   "execution_count": 6,
   "metadata": {},
   "outputs": [
    {
     "data": {
      "text/html": [
       "<div>\n",
       "<style scoped>\n",
       "    .dataframe tbody tr th:only-of-type {\n",
       "        vertical-align: middle;\n",
       "    }\n",
       "\n",
       "    .dataframe tbody tr th {\n",
       "        vertical-align: top;\n",
       "    }\n",
       "\n",
       "    .dataframe thead th {\n",
       "        text-align: right;\n",
       "    }\n",
       "</style>\n",
       "<table border=\"1\" class=\"dataframe\">\n",
       "  <thead>\n",
       "    <tr style=\"text-align: right;\">\n",
       "      <th></th>\n",
       "      <th>label</th>\n",
       "      <th>col-2</th>\n",
       "      <th>col-3</th>\n",
       "      <th>col-4</th>\n",
       "      <th>col-5</th>\n",
       "      <th>col-6</th>\n",
       "      <th>col-7</th>\n",
       "      <th>col-8</th>\n",
       "      <th>col-9</th>\n",
       "      <th>col-10</th>\n",
       "      <th>...</th>\n",
       "      <th>col-20</th>\n",
       "      <th>col-21</th>\n",
       "      <th>col-22</th>\n",
       "      <th>col-23</th>\n",
       "      <th>col-24</th>\n",
       "      <th>col-25</th>\n",
       "      <th>col-26</th>\n",
       "      <th>col-27</th>\n",
       "      <th>col-28</th>\n",
       "      <th>col-29</th>\n",
       "    </tr>\n",
       "  </thead>\n",
       "  <tbody>\n",
       "    <tr>\n",
       "      <th>0</th>\n",
       "      <td>1</td>\n",
       "      <td>0.869293</td>\n",
       "      <td>-0.635082</td>\n",
       "      <td>0.225690</td>\n",
       "      <td>0.327470</td>\n",
       "      <td>-0.689993</td>\n",
       "      <td>0.754202</td>\n",
       "      <td>-0.248573</td>\n",
       "      <td>-1.092064</td>\n",
       "      <td>0.000000</td>\n",
       "      <td>...</td>\n",
       "      <td>-0.010455</td>\n",
       "      <td>-0.045767</td>\n",
       "      <td>3.101961</td>\n",
       "      <td>1.353760</td>\n",
       "      <td>0.979563</td>\n",
       "      <td>0.978076</td>\n",
       "      <td>0.920005</td>\n",
       "      <td>0.721657</td>\n",
       "      <td>0.988751</td>\n",
       "      <td>0.876678</td>\n",
       "    </tr>\n",
       "    <tr>\n",
       "      <th>1</th>\n",
       "      <td>1</td>\n",
       "      <td>0.907542</td>\n",
       "      <td>0.329147</td>\n",
       "      <td>0.359412</td>\n",
       "      <td>1.497970</td>\n",
       "      <td>-0.313010</td>\n",
       "      <td>1.095531</td>\n",
       "      <td>-0.557525</td>\n",
       "      <td>-1.588230</td>\n",
       "      <td>2.173076</td>\n",
       "      <td>...</td>\n",
       "      <td>-1.138930</td>\n",
       "      <td>-0.000819</td>\n",
       "      <td>0.000000</td>\n",
       "      <td>0.302220</td>\n",
       "      <td>0.833048</td>\n",
       "      <td>0.985700</td>\n",
       "      <td>0.978098</td>\n",
       "      <td>0.779732</td>\n",
       "      <td>0.992356</td>\n",
       "      <td>0.798343</td>\n",
       "    </tr>\n",
       "    <tr>\n",
       "      <th>2</th>\n",
       "      <td>1</td>\n",
       "      <td>0.798835</td>\n",
       "      <td>1.470639</td>\n",
       "      <td>-1.635975</td>\n",
       "      <td>0.453773</td>\n",
       "      <td>0.425629</td>\n",
       "      <td>1.104875</td>\n",
       "      <td>1.282323</td>\n",
       "      <td>1.381664</td>\n",
       "      <td>0.000000</td>\n",
       "      <td>...</td>\n",
       "      <td>1.128848</td>\n",
       "      <td>0.900461</td>\n",
       "      <td>0.000000</td>\n",
       "      <td>0.909753</td>\n",
       "      <td>1.108331</td>\n",
       "      <td>0.985692</td>\n",
       "      <td>0.951331</td>\n",
       "      <td>0.803251</td>\n",
       "      <td>0.865924</td>\n",
       "      <td>0.780118</td>\n",
       "    </tr>\n",
       "    <tr>\n",
       "      <th>3</th>\n",
       "      <td>0</td>\n",
       "      <td>1.344385</td>\n",
       "      <td>-0.876626</td>\n",
       "      <td>0.935913</td>\n",
       "      <td>1.992050</td>\n",
       "      <td>0.882454</td>\n",
       "      <td>1.786066</td>\n",
       "      <td>-1.646778</td>\n",
       "      <td>-0.942383</td>\n",
       "      <td>0.000000</td>\n",
       "      <td>...</td>\n",
       "      <td>-0.678379</td>\n",
       "      <td>-1.360356</td>\n",
       "      <td>0.000000</td>\n",
       "      <td>0.946652</td>\n",
       "      <td>1.028704</td>\n",
       "      <td>0.998656</td>\n",
       "      <td>0.728281</td>\n",
       "      <td>0.869200</td>\n",
       "      <td>1.026736</td>\n",
       "      <td>0.957904</td>\n",
       "    </tr>\n",
       "    <tr>\n",
       "      <th>4</th>\n",
       "      <td>1</td>\n",
       "      <td>1.105009</td>\n",
       "      <td>0.321356</td>\n",
       "      <td>1.522401</td>\n",
       "      <td>0.882808</td>\n",
       "      <td>-1.205349</td>\n",
       "      <td>0.681466</td>\n",
       "      <td>-1.070464</td>\n",
       "      <td>-0.921871</td>\n",
       "      <td>0.000000</td>\n",
       "      <td>...</td>\n",
       "      <td>-0.373566</td>\n",
       "      <td>0.113041</td>\n",
       "      <td>0.000000</td>\n",
       "      <td>0.755856</td>\n",
       "      <td>1.361057</td>\n",
       "      <td>0.986610</td>\n",
       "      <td>0.838085</td>\n",
       "      <td>1.133295</td>\n",
       "      <td>0.872245</td>\n",
       "      <td>0.808486</td>\n",
       "    </tr>\n",
       "  </tbody>\n",
       "</table>\n",
       "<p>5 rows × 29 columns</p>\n",
       "</div>"
      ],
      "text/plain": [
       "   label     col-2     col-3     col-4     col-5     col-6     col-7  \\\n",
       "0      1  0.869293 -0.635082  0.225690  0.327470 -0.689993  0.754202   \n",
       "1      1  0.907542  0.329147  0.359412  1.497970 -0.313010  1.095531   \n",
       "2      1  0.798835  1.470639 -1.635975  0.453773  0.425629  1.104875   \n",
       "3      0  1.344385 -0.876626  0.935913  1.992050  0.882454  1.786066   \n",
       "4      1  1.105009  0.321356  1.522401  0.882808 -1.205349  0.681466   \n",
       "\n",
       "      col-8     col-9    col-10  ...    col-20    col-21    col-22    col-23  \\\n",
       "0 -0.248573 -1.092064  0.000000  ... -0.010455 -0.045767  3.101961  1.353760   \n",
       "1 -0.557525 -1.588230  2.173076  ... -1.138930 -0.000819  0.000000  0.302220   \n",
       "2  1.282323  1.381664  0.000000  ...  1.128848  0.900461  0.000000  0.909753   \n",
       "3 -1.646778 -0.942383  0.000000  ... -0.678379 -1.360356  0.000000  0.946652   \n",
       "4 -1.070464 -0.921871  0.000000  ... -0.373566  0.113041  0.000000  0.755856   \n",
       "\n",
       "     col-24    col-25    col-26    col-27    col-28    col-29  \n",
       "0  0.979563  0.978076  0.920005  0.721657  0.988751  0.876678  \n",
       "1  0.833048  0.985700  0.978098  0.779732  0.992356  0.798343  \n",
       "2  1.108331  0.985692  0.951331  0.803251  0.865924  0.780118  \n",
       "3  1.028704  0.998656  0.728281  0.869200  1.026736  0.957904  \n",
       "4  1.361057  0.986610  0.838085  1.133295  0.872245  0.808486  \n",
       "\n",
       "[5 rows x 29 columns]"
      ]
     },
     "execution_count": 6,
     "metadata": {},
     "output_type": "execute_result"
    }
   ],
   "source": [
    "data.head().to_pandas()"
   ]
  },
  {
   "cell_type": "code",
   "execution_count": 7,
   "metadata": {},
   "outputs": [
    {
     "name": "stdout",
     "output_type": "stream",
     "text": [
      "====>cuml====\n",
      "    cuml params:  {'n_estimators': 100, 'max_depth': 8, 'n_bins': 16, 'split_algo': 1, 'n_streams': 8}\n",
      "    cuml model:  {'n_estimators': 100, 'max_depth': 8, 'handle': <cuml.common.handle.Handle object at 0x7f18241dad20>, 'max_features': 1.0, 'n_bins': 16, 'split_algo': 1, 'split_criterion': 0, 'min_rows_per_node': 2, 'bootstrap': True, 'bootstrap_features': False, 'verbose': False, 'rows_sample': 1.0, 'max_leaves': -1, 'quantile_per_tree': False}\n"
     ]
    },
    {
     "name": "stderr",
     "output_type": "stream",
     "text": [
      "/gpfs/fs1/rlan/anaconda3/envs/cuml_rf_bench/lib/python3.7/site-packages/ipykernel_launcher.py:28: UserWarning: Using NumPy for number of class detection,install CuPy for faster processing.\n"
     ]
    },
    {
     "name": "stdout",
     "output_type": "stream",
     "text": [
      "    cuml fits RF:  10.489315032958984\n",
      "====>sklearn====\n",
      "    skl params:  {'n_estimators': 100, 'max_depth': 8, 'n_bins': 16, 'split_algo': 1, 'n_streams': 8}\n",
      "    skl fits RF:  199.35952138900757\n",
      "   acc_score_cuml  acc_score_skl  cu_fit_time  skl_fit_time\n",
      "0               0              0    10.489315    199.359521\n",
      "====>cuml====\n",
      "    cuml params:  {'n_estimators': 100, 'max_depth': 12, 'n_bins': 16, 'split_algo': 1, 'n_streams': 8}\n",
      "    cuml model:  {'n_estimators': 100, 'max_depth': 12, 'handle': <cuml.common.handle.Handle object at 0x7f1821e59c30>, 'max_features': 1.0, 'n_bins': 16, 'split_algo': 1, 'split_criterion': 0, 'min_rows_per_node': 2, 'bootstrap': True, 'bootstrap_features': False, 'verbose': False, 'rows_sample': 1.0, 'max_leaves': -1, 'quantile_per_tree': False}\n"
     ]
    },
    {
     "name": "stderr",
     "output_type": "stream",
     "text": [
      "/gpfs/fs1/rlan/anaconda3/envs/cuml_rf_bench/lib/python3.7/site-packages/ipykernel_launcher.py:28: UserWarning: Using NumPy for number of class detection,install CuPy for faster processing.\n"
     ]
    },
    {
     "name": "stdout",
     "output_type": "stream",
     "text": [
      "    cuml fits RF:  21.808729887008667\n",
      "====>sklearn====\n",
      "    skl params:  {'n_estimators': 100, 'max_depth': 12, 'n_bins': 16, 'split_algo': 1, 'n_streams': 8}\n",
      "    skl fits RF:  274.1888270378113\n",
      "   acc_score_cuml  acc_score_skl  cu_fit_time  skl_fit_time\n",
      "0               0              0    10.489315    199.359521\n",
      "1               0              0    21.808730    274.188827\n",
      "====>cuml====\n",
      "    cuml params:  {'n_estimators': 100, 'max_depth': 16, 'n_bins': 16, 'split_algo': 1, 'n_streams': 8}\n",
      "    cuml model:  {'n_estimators': 100, 'max_depth': 16, 'handle': <cuml.common.handle.Handle object at 0x7f1821e59ed0>, 'max_features': 1.0, 'n_bins': 16, 'split_algo': 1, 'split_criterion': 0, 'min_rows_per_node': 2, 'bootstrap': True, 'bootstrap_features': False, 'verbose': False, 'rows_sample': 1.0, 'max_leaves': -1, 'quantile_per_tree': False}\n"
     ]
    },
    {
     "name": "stderr",
     "output_type": "stream",
     "text": [
      "/gpfs/fs1/rlan/anaconda3/envs/cuml_rf_bench/lib/python3.7/site-packages/ipykernel_launcher.py:28: UserWarning: Using NumPy for number of class detection,install CuPy for faster processing.\n"
     ]
    },
    {
     "name": "stdout",
     "output_type": "stream",
     "text": [
      "    cuml fits RF:  52.85541868209839\n",
      "====>sklearn====\n",
      "    skl params:  {'n_estimators': 100, 'max_depth': 16, 'n_bins': 16, 'split_algo': 1, 'n_streams': 8}\n",
      "    skl fits RF:  323.9339442253113\n",
      "   acc_score_cuml  acc_score_skl  cu_fit_time  skl_fit_time\n",
      "0               0              0    10.489315    199.359521\n",
      "1               0              0    21.808730    274.188827\n",
      "2               0              0    52.855419    323.933944\n",
      "====>cuml====\n",
      "    cuml params:  {'n_estimators': 100, 'max_depth': 8, 'n_bins': 16, 'split_algo': 1, 'n_streams': 10}\n",
      "    cuml model:  {'n_estimators': 100, 'max_depth': 8, 'handle': <cuml.common.handle.Handle object at 0x7f1821e59d38>, 'max_features': 1.0, 'n_bins': 16, 'split_algo': 1, 'split_criterion': 0, 'min_rows_per_node': 2, 'bootstrap': True, 'bootstrap_features': False, 'verbose': False, 'rows_sample': 1.0, 'max_leaves': -1, 'quantile_per_tree': False}\n"
     ]
    },
    {
     "name": "stderr",
     "output_type": "stream",
     "text": [
      "/gpfs/fs1/rlan/anaconda3/envs/cuml_rf_bench/lib/python3.7/site-packages/ipykernel_launcher.py:28: UserWarning: Using NumPy for number of class detection,install CuPy for faster processing.\n"
     ]
    },
    {
     "name": "stdout",
     "output_type": "stream",
     "text": [
      "    cuml fits RF:  10.540802478790283\n",
      "   acc_score_cuml  acc_score_skl  cu_fit_time  skl_fit_time\n",
      "0               0              0    10.489315    199.359521\n",
      "1               0              0    21.808730    274.188827\n",
      "2               0              0    52.855419    323.933944\n",
      "3               0              0    10.540802      0.000000\n",
      "====>cuml====\n",
      "    cuml params:  {'n_estimators': 100, 'max_depth': 12, 'n_bins': 16, 'split_algo': 1, 'n_streams': 10}\n",
      "    cuml model:  {'n_estimators': 100, 'max_depth': 12, 'handle': <cuml.common.handle.Handle object at 0x7f1821e59ed0>, 'max_features': 1.0, 'n_bins': 16, 'split_algo': 1, 'split_criterion': 0, 'min_rows_per_node': 2, 'bootstrap': True, 'bootstrap_features': False, 'verbose': False, 'rows_sample': 1.0, 'max_leaves': -1, 'quantile_per_tree': False}\n",
      "    cuml fits RF:  21.862015962600708\n",
      "   acc_score_cuml  acc_score_skl  cu_fit_time  skl_fit_time\n",
      "0               0              0    10.489315    199.359521\n",
      "1               0              0    21.808730    274.188827\n",
      "2               0              0    52.855419    323.933944\n",
      "3               0              0    10.540802      0.000000\n",
      "4               0              0    21.862016      0.000000\n",
      "====>cuml====\n",
      "    cuml params:  {'n_estimators': 100, 'max_depth': 16, 'n_bins': 16, 'split_algo': 1, 'n_streams': 10}\n",
      "    cuml model:  {'n_estimators': 100, 'max_depth': 16, 'handle': <cuml.common.handle.Handle object at 0x7f1821e59c90>, 'max_features': 1.0, 'n_bins': 16, 'split_algo': 1, 'split_criterion': 0, 'min_rows_per_node': 2, 'bootstrap': True, 'bootstrap_features': False, 'verbose': False, 'rows_sample': 1.0, 'max_leaves': -1, 'quantile_per_tree': False}\n",
      "    cuml fits RF:  52.984267711639404\n",
      "   acc_score_cuml  acc_score_skl  cu_fit_time  skl_fit_time\n",
      "0               0              0    10.489315    199.359521\n",
      "1               0              0    21.808730    274.188827\n",
      "2               0              0    52.855419    323.933944\n",
      "3               0              0    10.540802      0.000000\n",
      "4               0              0    21.862016      0.000000\n",
      "5               0              0    52.984268      0.000000\n",
      "====>cuml====\n",
      "    cuml params:  {'n_estimators': 500, 'max_depth': 8, 'n_bins': 16, 'split_algo': 1, 'n_streams': 8}\n",
      "    cuml model:  {'n_estimators': 500, 'max_depth': 8, 'handle': <cuml.common.handle.Handle object at 0x7f1821e59ed0>, 'max_features': 1.0, 'n_bins': 16, 'split_algo': 1, 'split_criterion': 0, 'min_rows_per_node': 2, 'bootstrap': True, 'bootstrap_features': False, 'verbose': False, 'rows_sample': 1.0, 'max_leaves': -1, 'quantile_per_tree': False}\n",
      "    cuml fits RF:  45.196290731430054\n",
      "====>sklearn====\n",
      "    skl params:  {'n_estimators': 500, 'max_depth': 8, 'n_bins': 16, 'split_algo': 1, 'n_streams': 8}\n",
      "    skl fits RF:  762.0085563659668\n",
      "   acc_score_cuml  acc_score_skl  cu_fit_time  skl_fit_time\n",
      "0               0              0    10.489315    199.359521\n",
      "1               0              0    21.808730    274.188827\n",
      "2               0              0    52.855419    323.933944\n",
      "3               0              0    10.540802      0.000000\n",
      "4               0              0    21.862016      0.000000\n",
      "5               0              0    52.984268      0.000000\n",
      "6               0              0    45.196291    762.008556\n",
      "====>cuml====\n",
      "    cuml params:  {'n_estimators': 500, 'max_depth': 12, 'n_bins': 16, 'split_algo': 1, 'n_streams': 8}\n",
      "    cuml model:  {'n_estimators': 500, 'max_depth': 12, 'handle': <cuml.common.handle.Handle object at 0x7f1821e59648>, 'max_features': 1.0, 'n_bins': 16, 'split_algo': 1, 'split_criterion': 0, 'min_rows_per_node': 2, 'bootstrap': True, 'bootstrap_features': False, 'verbose': False, 'rows_sample': 1.0, 'max_leaves': -1, 'quantile_per_tree': False}\n"
     ]
    },
    {
     "name": "stderr",
     "output_type": "stream",
     "text": [
      "/gpfs/fs1/rlan/anaconda3/envs/cuml_rf_bench/lib/python3.7/site-packages/ipykernel_launcher.py:28: UserWarning: Using NumPy for number of class detection,install CuPy for faster processing.\n"
     ]
    },
    {
     "name": "stdout",
     "output_type": "stream",
     "text": [
      "    cuml fits RF:  101.43455719947815\n",
      "====>sklearn====\n",
      "    skl params:  {'n_estimators': 500, 'max_depth': 12, 'n_bins': 16, 'split_algo': 1, 'n_streams': 8}\n",
      "    skl fits RF:  1057.2505943775177\n",
      "   acc_score_cuml  acc_score_skl  cu_fit_time  skl_fit_time\n",
      "0               0              0    10.489315    199.359521\n",
      "1               0              0    21.808730    274.188827\n",
      "2               0              0    52.855419    323.933944\n",
      "3               0              0    10.540802      0.000000\n",
      "4               0              0    21.862016      0.000000\n",
      "5               0              0    52.984268      0.000000\n",
      "6               0              0    45.196291    762.008556\n",
      "7               0              0   101.434557   1057.250594\n",
      "====>cuml====\n",
      "    cuml params:  {'n_estimators': 500, 'max_depth': 16, 'n_bins': 16, 'split_algo': 1, 'n_streams': 8}\n",
      "    cuml model:  {'n_estimators': 500, 'max_depth': 16, 'handle': <cuml.common.handle.Handle object at 0x7f1821e59b28>, 'max_features': 1.0, 'n_bins': 16, 'split_algo': 1, 'split_criterion': 0, 'min_rows_per_node': 2, 'bootstrap': True, 'bootstrap_features': False, 'verbose': False, 'rows_sample': 1.0, 'max_leaves': -1, 'quantile_per_tree': False}\n"
     ]
    },
    {
     "name": "stderr",
     "output_type": "stream",
     "text": [
      "/gpfs/fs1/rlan/anaconda3/envs/cuml_rf_bench/lib/python3.7/site-packages/ipykernel_launcher.py:28: UserWarning: Using NumPy for number of class detection,install CuPy for faster processing.\n"
     ]
    },
    {
     "name": "stdout",
     "output_type": "stream",
     "text": [
      "    cuml fits RF:  252.69469618797302\n",
      "====>sklearn====\n",
      "    skl params:  {'n_estimators': 500, 'max_depth': 16, 'n_bins': 16, 'split_algo': 1, 'n_streams': 8}\n",
      "    skl fits RF:  1266.5360057353973\n",
      "   acc_score_cuml  acc_score_skl  cu_fit_time  skl_fit_time\n",
      "0               0              0    10.489315    199.359521\n",
      "1               0              0    21.808730    274.188827\n",
      "2               0              0    52.855419    323.933944\n",
      "3               0              0    10.540802      0.000000\n",
      "4               0              0    21.862016      0.000000\n",
      "5               0              0    52.984268      0.000000\n",
      "6               0              0    45.196291    762.008556\n",
      "7               0              0   101.434557   1057.250594\n",
      "8               0              0   252.694696   1266.536006\n",
      "====>cuml====\n",
      "    cuml params:  {'n_estimators': 500, 'max_depth': 8, 'n_bins': 16, 'split_algo': 1, 'n_streams': 10}\n",
      "    cuml model:  {'n_estimators': 500, 'max_depth': 8, 'handle': <cuml.common.handle.Handle object at 0x7f181f0e9720>, 'max_features': 1.0, 'n_bins': 16, 'split_algo': 1, 'split_criterion': 0, 'min_rows_per_node': 2, 'bootstrap': True, 'bootstrap_features': False, 'verbose': False, 'rows_sample': 1.0, 'max_leaves': -1, 'quantile_per_tree': False}\n"
     ]
    },
    {
     "name": "stderr",
     "output_type": "stream",
     "text": [
      "/gpfs/fs1/rlan/anaconda3/envs/cuml_rf_bench/lib/python3.7/site-packages/ipykernel_launcher.py:28: UserWarning: Using NumPy for number of class detection,install CuPy for faster processing.\n"
     ]
    },
    {
     "name": "stdout",
     "output_type": "stream",
     "text": [
      "    cuml fits RF:  45.20793676376343\n",
      "   acc_score_cuml  acc_score_skl  cu_fit_time  skl_fit_time\n",
      "0               0              0    10.489315    199.359521\n",
      "1               0              0    21.808730    274.188827\n",
      "2               0              0    52.855419    323.933944\n",
      "3               0              0    10.540802      0.000000\n",
      "4               0              0    21.862016      0.000000\n",
      "5               0              0    52.984268      0.000000\n",
      "6               0              0    45.196291    762.008556\n",
      "7               0              0   101.434557   1057.250594\n",
      "8               0              0   252.694696   1266.536006\n",
      "9               0              0    45.207937      0.000000\n",
      "====>cuml====\n",
      "    cuml params:  {'n_estimators': 500, 'max_depth': 12, 'n_bins': 16, 'split_algo': 1, 'n_streams': 10}\n",
      "    cuml model:  {'n_estimators': 500, 'max_depth': 12, 'handle': <cuml.common.handle.Handle object at 0x7f181f0e96a8>, 'max_features': 1.0, 'n_bins': 16, 'split_algo': 1, 'split_criterion': 0, 'min_rows_per_node': 2, 'bootstrap': True, 'bootstrap_features': False, 'verbose': False, 'rows_sample': 1.0, 'max_leaves': -1, 'quantile_per_tree': False}\n",
      "    cuml fits RF:  101.45126795768738\n",
      "    acc_score_cuml  acc_score_skl  cu_fit_time  skl_fit_time\n",
      "0                0              0    10.489315    199.359521\n",
      "1                0              0    21.808730    274.188827\n",
      "2                0              0    52.855419    323.933944\n",
      "3                0              0    10.540802      0.000000\n",
      "4                0              0    21.862016      0.000000\n",
      "5                0              0    52.984268      0.000000\n",
      "6                0              0    45.196291    762.008556\n",
      "7                0              0   101.434557   1057.250594\n",
      "8                0              0   252.694696   1266.536006\n",
      "9                0              0    45.207937      0.000000\n",
      "10               0              0   101.451268      0.000000\n",
      "====>cuml====\n",
      "    cuml params:  {'n_estimators': 500, 'max_depth': 16, 'n_bins': 16, 'split_algo': 1, 'n_streams': 10}\n",
      "    cuml model:  {'n_estimators': 500, 'max_depth': 16, 'handle': <cuml.common.handle.Handle object at 0x7f181f0e9720>, 'max_features': 1.0, 'n_bins': 16, 'split_algo': 1, 'split_criterion': 0, 'min_rows_per_node': 2, 'bootstrap': True, 'bootstrap_features': False, 'verbose': False, 'rows_sample': 1.0, 'max_leaves': -1, 'quantile_per_tree': False}\n",
      "    cuml fits RF:  253.02108502388\n",
      "    acc_score_cuml  acc_score_skl  cu_fit_time  skl_fit_time\n",
      "0                0              0    10.489315    199.359521\n",
      "1                0              0    21.808730    274.188827\n",
      "2                0              0    52.855419    323.933944\n",
      "3                0              0    10.540802      0.000000\n",
      "4                0              0    21.862016      0.000000\n",
      "5                0              0    52.984268      0.000000\n",
      "6                0              0    45.196291    762.008556\n",
      "7                0              0   101.434557   1057.250594\n",
      "8                0              0   252.694696   1266.536006\n",
      "9                0              0    45.207937      0.000000\n",
      "10               0              0   101.451268      0.000000\n",
      "11               0              0   253.021085      0.000000\n",
      "====>cuml====\n",
      "    cuml params:  {'n_estimators': 1000, 'max_depth': 8, 'n_bins': 16, 'split_algo': 1, 'n_streams': 8}\n",
      "    cuml model:  {'n_estimators': 1000, 'max_depth': 8, 'handle': <cuml.common.handle.Handle object at 0x7f181f0e96a8>, 'max_features': 1.0, 'n_bins': 16, 'split_algo': 1, 'split_criterion': 0, 'min_rows_per_node': 2, 'bootstrap': True, 'bootstrap_features': False, 'verbose': False, 'rows_sample': 1.0, 'max_leaves': -1, 'quantile_per_tree': False}\n",
      "    cuml fits RF:  88.53520488739014\n",
      "====>sklearn====\n",
      "    skl params:  {'n_estimators': 1000, 'max_depth': 8, 'n_bins': 16, 'split_algo': 1, 'n_streams': 8}\n",
      "    skl fits RF:  1450.8675847053528\n",
      "    acc_score_cuml  acc_score_skl  cu_fit_time  skl_fit_time\n",
      "0                0              0    10.489315    199.359521\n",
      "1                0              0    21.808730    274.188827\n",
      "2                0              0    52.855419    323.933944\n",
      "3                0              0    10.540802      0.000000\n",
      "4                0              0    21.862016      0.000000\n",
      "5                0              0    52.984268      0.000000\n",
      "6                0              0    45.196291    762.008556\n",
      "7                0              0   101.434557   1057.250594\n",
      "8                0              0   252.694696   1266.536006\n",
      "9                0              0    45.207937      0.000000\n",
      "10               0              0   101.451268      0.000000\n",
      "11               0              0   253.021085      0.000000\n",
      "12               0              0    88.535205   1450.867585\n",
      "====>cuml====\n",
      "    cuml params:  {'n_estimators': 1000, 'max_depth': 12, 'n_bins': 16, 'split_algo': 1, 'n_streams': 8}\n",
      "    cuml model:  {'n_estimators': 1000, 'max_depth': 12, 'handle': <cuml.common.handle.Handle object at 0x7f181f0e9e28>, 'max_features': 1.0, 'n_bins': 16, 'split_algo': 1, 'split_criterion': 0, 'min_rows_per_node': 2, 'bootstrap': True, 'bootstrap_features': False, 'verbose': False, 'rows_sample': 1.0, 'max_leaves': -1, 'quantile_per_tree': False}\n"
     ]
    },
    {
     "name": "stderr",
     "output_type": "stream",
     "text": [
      "/gpfs/fs1/rlan/anaconda3/envs/cuml_rf_bench/lib/python3.7/site-packages/ipykernel_launcher.py:28: UserWarning: Using NumPy for number of class detection,install CuPy for faster processing.\n"
     ]
    },
    {
     "name": "stdout",
     "output_type": "stream",
     "text": [
      "    cuml fits RF:  200.61848092079163\n",
      "====>sklearn====\n",
      "    skl params:  {'n_estimators': 1000, 'max_depth': 12, 'n_bins': 16, 'split_algo': 1, 'n_streams': 8}\n",
      "    skl fits RF:  2019.8885657787323\n",
      "    acc_score_cuml  acc_score_skl  cu_fit_time  skl_fit_time\n",
      "0                0              0    10.489315    199.359521\n",
      "1                0              0    21.808730    274.188827\n",
      "2                0              0    52.855419    323.933944\n",
      "3                0              0    10.540802      0.000000\n",
      "4                0              0    21.862016      0.000000\n",
      "5                0              0    52.984268      0.000000\n",
      "6                0              0    45.196291    762.008556\n",
      "7                0              0   101.434557   1057.250594\n",
      "8                0              0   252.694696   1266.536006\n",
      "9                0              0    45.207937      0.000000\n",
      "10               0              0   101.451268      0.000000\n",
      "11               0              0   253.021085      0.000000\n",
      "12               0              0    88.535205   1450.867585\n",
      "13               0              0   200.618481   2019.888566\n",
      "====>cuml====\n",
      "    cuml params:  {'n_estimators': 1000, 'max_depth': 16, 'n_bins': 16, 'split_algo': 1, 'n_streams': 8}\n",
      "    cuml model:  {'n_estimators': 1000, 'max_depth': 16, 'handle': <cuml.common.handle.Handle object at 0x7f181f10d408>, 'max_features': 1.0, 'n_bins': 16, 'split_algo': 1, 'split_criterion': 0, 'min_rows_per_node': 2, 'bootstrap': True, 'bootstrap_features': False, 'verbose': False, 'rows_sample': 1.0, 'max_leaves': -1, 'quantile_per_tree': False}\n"
     ]
    },
    {
     "name": "stderr",
     "output_type": "stream",
     "text": [
      "/gpfs/fs1/rlan/anaconda3/envs/cuml_rf_bench/lib/python3.7/site-packages/ipykernel_launcher.py:28: UserWarning: Using NumPy for number of class detection,install CuPy for faster processing.\n"
     ]
    },
    {
     "name": "stdout",
     "output_type": "stream",
     "text": [
      "    cuml fits RF:  503.84205627441406\n",
      "====>sklearn====\n",
      "    skl params:  {'n_estimators': 1000, 'max_depth': 16, 'n_bins': 16, 'split_algo': 1, 'n_streams': 8}\n",
      "    skl fits RF:  2440.88609957695\n",
      "    acc_score_cuml  acc_score_skl  cu_fit_time  skl_fit_time\n",
      "0                0              0    10.489315    199.359521\n",
      "1                0              0    21.808730    274.188827\n",
      "2                0              0    52.855419    323.933944\n",
      "3                0              0    10.540802      0.000000\n",
      "4                0              0    21.862016      0.000000\n",
      "5                0              0    52.984268      0.000000\n",
      "6                0              0    45.196291    762.008556\n",
      "7                0              0   101.434557   1057.250594\n",
      "8                0              0   252.694696   1266.536006\n",
      "9                0              0    45.207937      0.000000\n",
      "10               0              0   101.451268      0.000000\n",
      "11               0              0   253.021085      0.000000\n",
      "12               0              0    88.535205   1450.867585\n",
      "13               0              0   200.618481   2019.888566\n",
      "14               0              0   503.842056   2440.886100\n",
      "====>cuml====\n",
      "    cuml params:  {'n_estimators': 1000, 'max_depth': 8, 'n_bins': 16, 'split_algo': 1, 'n_streams': 10}\n",
      "    cuml model:  {'n_estimators': 1000, 'max_depth': 8, 'handle': <cuml.common.handle.Handle object at 0x7f181f0e92d0>, 'max_features': 1.0, 'n_bins': 16, 'split_algo': 1, 'split_criterion': 0, 'min_rows_per_node': 2, 'bootstrap': True, 'bootstrap_features': False, 'verbose': False, 'rows_sample': 1.0, 'max_leaves': -1, 'quantile_per_tree': False}\n"
     ]
    },
    {
     "name": "stderr",
     "output_type": "stream",
     "text": [
      "/gpfs/fs1/rlan/anaconda3/envs/cuml_rf_bench/lib/python3.7/site-packages/ipykernel_launcher.py:28: UserWarning: Using NumPy for number of class detection,install CuPy for faster processing.\n"
     ]
    },
    {
     "name": "stdout",
     "output_type": "stream",
     "text": [
      "    cuml fits RF:  88.56517386436462\n",
      "    acc_score_cuml  acc_score_skl  cu_fit_time  skl_fit_time\n",
      "0                0              0    10.489315    199.359521\n",
      "1                0              0    21.808730    274.188827\n",
      "2                0              0    52.855419    323.933944\n",
      "3                0              0    10.540802      0.000000\n",
      "4                0              0    21.862016      0.000000\n",
      "5                0              0    52.984268      0.000000\n",
      "6                0              0    45.196291    762.008556\n",
      "7                0              0   101.434557   1057.250594\n",
      "8                0              0   252.694696   1266.536006\n",
      "9                0              0    45.207937      0.000000\n",
      "10               0              0   101.451268      0.000000\n",
      "11               0              0   253.021085      0.000000\n",
      "12               0              0    88.535205   1450.867585\n",
      "13               0              0   200.618481   2019.888566\n",
      "14               0              0   503.842056   2440.886100\n",
      "15               0              0    88.565174      0.000000\n",
      "====>cuml====\n",
      "    cuml params:  {'n_estimators': 1000, 'max_depth': 12, 'n_bins': 16, 'split_algo': 1, 'n_streams': 10}\n",
      "    cuml model:  {'n_estimators': 1000, 'max_depth': 12, 'handle': <cuml.common.handle.Handle object at 0x7f181f10d408>, 'max_features': 1.0, 'n_bins': 16, 'split_algo': 1, 'split_criterion': 0, 'min_rows_per_node': 2, 'bootstrap': True, 'bootstrap_features': False, 'verbose': False, 'rows_sample': 1.0, 'max_leaves': -1, 'quantile_per_tree': False}\n",
      "    cuml fits RF:  200.70920372009277\n",
      "    acc_score_cuml  acc_score_skl  cu_fit_time  skl_fit_time\n",
      "0                0              0    10.489315    199.359521\n",
      "1                0              0    21.808730    274.188827\n",
      "2                0              0    52.855419    323.933944\n",
      "3                0              0    10.540802      0.000000\n",
      "4                0              0    21.862016      0.000000\n",
      "5                0              0    52.984268      0.000000\n",
      "6                0              0    45.196291    762.008556\n",
      "7                0              0   101.434557   1057.250594\n",
      "8                0              0   252.694696   1266.536006\n",
      "9                0              0    45.207937      0.000000\n",
      "10               0              0   101.451268      0.000000\n",
      "11               0              0   253.021085      0.000000\n",
      "12               0              0    88.535205   1450.867585\n",
      "13               0              0   200.618481   2019.888566\n",
      "14               0              0   503.842056   2440.886100\n",
      "15               0              0    88.565174      0.000000\n",
      "16               0              0   200.709204      0.000000\n",
      "====>cuml====\n",
      "    cuml params:  {'n_estimators': 1000, 'max_depth': 16, 'n_bins': 16, 'split_algo': 1, 'n_streams': 10}\n",
      "    cuml model:  {'n_estimators': 1000, 'max_depth': 16, 'handle': <cuml.common.handle.Handle object at 0x7f181f0e9708>, 'max_features': 1.0, 'n_bins': 16, 'split_algo': 1, 'split_criterion': 0, 'min_rows_per_node': 2, 'bootstrap': True, 'bootstrap_features': False, 'verbose': False, 'rows_sample': 1.0, 'max_leaves': -1, 'quantile_per_tree': False}\n",
      "    cuml fits RF:  503.31043767929077\n",
      "    acc_score_cuml  acc_score_skl  cu_fit_time  skl_fit_time\n",
      "0                0              0    10.489315    199.359521\n",
      "1                0              0    21.808730    274.188827\n",
      "2                0              0    52.855419    323.933944\n",
      "3                0              0    10.540802      0.000000\n",
      "4                0              0    21.862016      0.000000\n",
      "5                0              0    52.984268      0.000000\n",
      "6                0              0    45.196291    762.008556\n",
      "7                0              0   101.434557   1057.250594\n",
      "8                0              0   252.694696   1266.536006\n",
      "9                0              0    45.207937      0.000000\n",
      "10               0              0   101.451268      0.000000\n",
      "11               0              0   253.021085      0.000000\n",
      "12               0              0    88.535205   1450.867585\n",
      "13               0              0   200.618481   2019.888566\n",
      "14               0              0   503.842056   2440.886100\n",
      "15               0              0    88.565174      0.000000\n",
      "16               0              0   200.709204      0.000000\n",
      "17               0              0   503.310438      0.000000\n"
     ]
    }
   ],
   "source": [
    "estimator_array = [100, 500, 1000]\n",
    "stream_array = [8, 10]\n",
    "depth_array = [8, 12, 16]\n",
    "run_cuml = True\n",
    "run_skl = True \n",
    "skip_test = True \n",
    "csv_path = './rf_bench_results/rf_bench_higgs.csv'\n",
    "\n",
    "start_bench(run_cuml, run_skl, skip_test, estimator_array, stream_array, depth_array, csv_path, X_train, y_train, X_train_np, y_train_np, X_test_np, y_test_np)"
   ]
  },
  {
   "cell_type": "markdown",
   "metadata": {},
   "source": [
    "## Airline"
   ]
  },
  {
   "cell_type": "code",
   "execution_count": 7,
   "metadata": {
    "scrolled": true
   },
   "outputs": [
    {
     "name": "stdout",
     "output_type": "stream",
     "text": [
      "NP Shape of the training data :  (92000000, 13)\n",
      "NP Shape of the ground truth data used for training :  (92000000,)\n",
      "NP Shape of the testing data :  (23000000, 13)\n",
      "NP Shape of the ground truth data used for testing :  (23000000,)\n",
      "DF Shape of the training data :  (92000000, 13)\n",
      "DF Shape of the ground truth data used for training :  (92000000,)\n"
     ]
    }
   ],
   "source": [
    "from datasets import prepare_dataset\n",
    "\n",
    "data = prepare_dataset('./data/', 'airline', 115000000)\n",
    "\n",
    "data.X_train = data.X_train.astype(np.float32)\n",
    "data.X_test = data.X_test.astype(np.float32)\n",
    "data.y_train = data.y_train.astype(np.int32)\n",
    "data.y_test = data.y_test.astype(np.int32)\n",
    "\n",
    "X_train_np = data.X_train.to_numpy()\n",
    "X_test_np = data.X_test.to_numpy()\n",
    "y_train_np = data.y_train.to_numpy()\n",
    "y_test_np = data.y_test.to_numpy()\n",
    "\n",
    "X_train_df = cudf.from_pandas(data.X_train)\n",
    "y_train_df = cudf.from_pandas(data.y_train)\n",
    "\n",
    "print(\"NP Shape of the training data : \", X_train_np.shape)\n",
    "print(\"NP Shape of the ground truth data used for training : \", y_train_np.shape)\n",
    "print(\"NP Shape of the testing data : \", X_test_np.shape)\n",
    "print(\"NP Shape of the ground truth data used for testing : \", y_test_np.shape)\n",
    "print(\"DF Shape of the training data : \", X_train_df.shape)\n",
    "print(\"DF Shape of the ground truth data used for training : \", y_train_df.shape)"
   ]
  },
  {
   "cell_type": "code",
   "execution_count": 10,
   "metadata": {},
   "outputs": [
    {
     "name": "stderr",
     "output_type": "stream",
     "text": [
      "ERROR:Call to cuMemcpyHtoD results in CUDA_ERROR_INVALID_VALUE\n"
     ]
    },
    {
     "name": "stdout",
     "output_type": "stream",
     "text": [
      "====>cuml====\n",
      "    cuml params:  {'n_estimators': 100, 'max_depth': 8, 'n_bins': 16, 'split_algo': 1, 'n_streams': 8}\n",
      "    cuml model:  {'n_estimators': 100, 'max_depth': 8, 'handle': <cuml.common.handle.Handle object at 0x7ff978f7cbe8>, 'max_features': 1.0, 'n_bins': 16, 'split_algo': 1, 'split_criterion': 0, 'min_rows_per_node': 2, 'bootstrap': True, 'bootstrap_features': False, 'verbose': False, 'rows_sample': 1.0, 'max_leaves': -1, 'quantile_per_tree': False}\n"
     ]
    },
    {
     "ename": "CudaAPIError",
     "evalue": "[1] Call to cuMemcpyHtoD results in CUDA_ERROR_INVALID_VALUE",
     "output_type": "error",
     "traceback": [
      "\u001b[0;31m---------------------------------------------------------------------------\u001b[0m",
      "\u001b[0;31mCudaAPIError\u001b[0m                              Traceback (most recent call last)",
      "\u001b[0;32m<ipython-input-10-bec021d96d45>\u001b[0m in \u001b[0;36m<module>\u001b[0;34m\u001b[0m\n\u001b[1;32m      7\u001b[0m \u001b[0mcsv_path\u001b[0m \u001b[0;34m=\u001b[0m \u001b[0;34m'./rf_bench_results/rf_bench_airline.csv'\u001b[0m\u001b[0;34m\u001b[0m\u001b[0;34m\u001b[0m\u001b[0m\n\u001b[1;32m      8\u001b[0m \u001b[0;34m\u001b[0m\u001b[0m\n\u001b[0;32m----> 9\u001b[0;31m \u001b[0mstart_bench\u001b[0m\u001b[0;34m(\u001b[0m\u001b[0mrun_cuml\u001b[0m\u001b[0;34m,\u001b[0m \u001b[0mrun_skl\u001b[0m\u001b[0;34m,\u001b[0m \u001b[0mskip_test\u001b[0m\u001b[0;34m,\u001b[0m \u001b[0mestimator_array\u001b[0m\u001b[0;34m,\u001b[0m \u001b[0mstream_array\u001b[0m\u001b[0;34m,\u001b[0m \u001b[0mdepth_array\u001b[0m\u001b[0;34m,\u001b[0m \u001b[0mcsv_path\u001b[0m\u001b[0;34m,\u001b[0m \u001b[0mX_train_np\u001b[0m\u001b[0;34m,\u001b[0m \u001b[0my_train_np\u001b[0m\u001b[0;34m,\u001b[0m \u001b[0mX_train_np\u001b[0m\u001b[0;34m,\u001b[0m \u001b[0mX_test_np\u001b[0m\u001b[0;34m,\u001b[0m \u001b[0mX_test_np\u001b[0m\u001b[0;34m,\u001b[0m \u001b[0my_test_np\u001b[0m\u001b[0;34m)\u001b[0m\u001b[0;34m\u001b[0m\u001b[0;34m\u001b[0m\u001b[0m\n\u001b[0m",
      "\u001b[0;32m<ipython-input-4-4ec9c6f6eacf>\u001b[0m in \u001b[0;36mstart_bench\u001b[0;34m(run_cuml, run_skl, skip_test, estimator_array, stream_array, depth_array, csv_path, X_train, y_train, X_train_np, y_train_np, X_test_np, y_test_np)\u001b[0m\n\u001b[1;32m     26\u001b[0m \u001b[0;34m\u001b[0m\u001b[0m\n\u001b[1;32m     27\u001b[0m                     \u001b[0mt0\u001b[0m \u001b[0;34m=\u001b[0m \u001b[0mtime\u001b[0m\u001b[0;34m.\u001b[0m\u001b[0mtime\u001b[0m\u001b[0;34m(\u001b[0m\u001b[0;34m)\u001b[0m\u001b[0;34m\u001b[0m\u001b[0;34m\u001b[0m\u001b[0m\n\u001b[0;32m---> 28\u001b[0;31m                     \u001b[0mcu_rf\u001b[0m\u001b[0;34m.\u001b[0m\u001b[0mfit\u001b[0m\u001b[0;34m(\u001b[0m\u001b[0mX_train\u001b[0m\u001b[0;34m,\u001b[0m \u001b[0my_train\u001b[0m\u001b[0;34m)\u001b[0m\u001b[0;34m\u001b[0m\u001b[0;34m\u001b[0m\u001b[0m\n\u001b[0m\u001b[1;32m     29\u001b[0m                     \u001b[0mcu_fit_time\u001b[0m \u001b[0;34m=\u001b[0m \u001b[0mtime\u001b[0m\u001b[0;34m.\u001b[0m\u001b[0mtime\u001b[0m\u001b[0;34m(\u001b[0m\u001b[0;34m)\u001b[0m \u001b[0;34m-\u001b[0m \u001b[0mt0\u001b[0m\u001b[0;34m\u001b[0m\u001b[0;34m\u001b[0m\u001b[0m\n\u001b[1;32m     30\u001b[0m \u001b[0;34m\u001b[0m\u001b[0m\n",
      "\u001b[0;32m/gpfs/fs1/rlan/rf_bench/cuml/python/cuml/ensemble/randomforestclassifier.pyx\u001b[0m in \u001b[0;36mcuml.ensemble.randomforestclassifier.RandomForestClassifier.fit\u001b[0;34m()\u001b[0m\n",
      "\u001b[0;32m/gpfs/fs1/rlan/rf_bench/cuml/python/cuml/utils/input_utils.py\u001b[0m in \u001b[0;36minput_to_dev_array\u001b[0;34m(X, order, deepcopy, check_dtype, convert_to_dtype, check_cols, check_rows, fail_on_order)\u001b[0m\n\u001b[1;32m    108\u001b[0m     \u001b[0;32melif\u001b[0m \u001b[0misinstance\u001b[0m\u001b[0;34m(\u001b[0m\u001b[0mX\u001b[0m\u001b[0;34m,\u001b[0m \u001b[0mnp\u001b[0m\u001b[0;34m.\u001b[0m\u001b[0mndarray\u001b[0m\u001b[0;34m)\u001b[0m\u001b[0;34m:\u001b[0m\u001b[0;34m\u001b[0m\u001b[0;34m\u001b[0m\u001b[0m\n\u001b[1;32m    109\u001b[0m         \u001b[0mdtype\u001b[0m \u001b[0;34m=\u001b[0m \u001b[0mX\u001b[0m\u001b[0;34m.\u001b[0m\u001b[0mdtype\u001b[0m\u001b[0;34m\u001b[0m\u001b[0;34m\u001b[0m\u001b[0m\n\u001b[0;32m--> 110\u001b[0;31m         \u001b[0mX_m\u001b[0m \u001b[0;34m=\u001b[0m \u001b[0mrmm\u001b[0m\u001b[0;34m.\u001b[0m\u001b[0mto_device\u001b[0m\u001b[0;34m(\u001b[0m\u001b[0mnp\u001b[0m\u001b[0;34m.\u001b[0m\u001b[0marray\u001b[0m\u001b[0;34m(\u001b[0m\u001b[0mX\u001b[0m\u001b[0;34m,\u001b[0m \u001b[0morder\u001b[0m\u001b[0;34m=\u001b[0m\u001b[0morder\u001b[0m\u001b[0;34m,\u001b[0m \u001b[0mcopy\u001b[0m\u001b[0;34m=\u001b[0m\u001b[0;32mFalse\u001b[0m\u001b[0;34m)\u001b[0m\u001b[0;34m)\u001b[0m\u001b[0;34m\u001b[0m\u001b[0;34m\u001b[0m\u001b[0m\n\u001b[0m\u001b[1;32m    111\u001b[0m \u001b[0;34m\u001b[0m\u001b[0m\n\u001b[1;32m    112\u001b[0m     \u001b[0;32melif\u001b[0m \u001b[0mcuda\u001b[0m\u001b[0;34m.\u001b[0m\u001b[0mis_cuda_array\u001b[0m\u001b[0;34m(\u001b[0m\u001b[0mX\u001b[0m\u001b[0;34m)\u001b[0m\u001b[0;34m:\u001b[0m\u001b[0;34m\u001b[0m\u001b[0;34m\u001b[0m\u001b[0m\n",
      "\u001b[0;32m/gpfs/fs1/rlan/anaconda3/envs/cuml_rf_bench/lib/python3.7/site-packages/librmm_cffi/wrapper.py\u001b[0m in \u001b[0;36mto_device\u001b[0;34m(self, ary, stream, copy, to)\u001b[0m\n\u001b[1;32m    239\u001b[0m         \u001b[0;32mif\u001b[0m \u001b[0mto\u001b[0m \u001b[0;32mis\u001b[0m \u001b[0;32mNone\u001b[0m\u001b[0;34m:\u001b[0m\u001b[0;34m\u001b[0m\u001b[0;34m\u001b[0m\u001b[0m\n\u001b[1;32m    240\u001b[0m             \u001b[0mto\u001b[0m \u001b[0;34m=\u001b[0m \u001b[0mself\u001b[0m\u001b[0;34m.\u001b[0m\u001b[0mdevice_array_like\u001b[0m\u001b[0;34m(\u001b[0m\u001b[0mary\u001b[0m\u001b[0;34m,\u001b[0m \u001b[0mstream\u001b[0m\u001b[0;34m=\u001b[0m\u001b[0mstream\u001b[0m\u001b[0;34m)\u001b[0m\u001b[0;34m\u001b[0m\u001b[0;34m\u001b[0m\u001b[0m\n\u001b[0;32m--> 241\u001b[0;31m             \u001b[0mto\u001b[0m\u001b[0;34m.\u001b[0m\u001b[0mcopy_to_device\u001b[0m\u001b[0;34m(\u001b[0m\u001b[0mary\u001b[0m\u001b[0;34m,\u001b[0m \u001b[0mstream\u001b[0m\u001b[0;34m=\u001b[0m\u001b[0mstream\u001b[0m\u001b[0;34m)\u001b[0m\u001b[0;34m\u001b[0m\u001b[0;34m\u001b[0m\u001b[0m\n\u001b[0m\u001b[1;32m    242\u001b[0m             \u001b[0;32mreturn\u001b[0m \u001b[0mto\u001b[0m\u001b[0;34m\u001b[0m\u001b[0;34m\u001b[0m\u001b[0m\n\u001b[1;32m    243\u001b[0m         \u001b[0;32mif\u001b[0m \u001b[0mcopy\u001b[0m\u001b[0;34m:\u001b[0m\u001b[0;34m\u001b[0m\u001b[0;34m\u001b[0m\u001b[0m\n",
      "\u001b[0;32m/gpfs/fs1/rlan/anaconda3/envs/cuml_rf_bench/lib/python3.7/site-packages/numba/cuda/cudadrv/devices.py\u001b[0m in \u001b[0;36m_require_cuda_context\u001b[0;34m(*args, **kws)\u001b[0m\n\u001b[1;32m    223\u001b[0m     \u001b[0;32mdef\u001b[0m \u001b[0m_require_cuda_context\u001b[0m\u001b[0;34m(\u001b[0m\u001b[0;34m*\u001b[0m\u001b[0margs\u001b[0m\u001b[0;34m,\u001b[0m \u001b[0;34m**\u001b[0m\u001b[0mkws\u001b[0m\u001b[0;34m)\u001b[0m\u001b[0;34m:\u001b[0m\u001b[0;34m\u001b[0m\u001b[0;34m\u001b[0m\u001b[0m\n\u001b[1;32m    224\u001b[0m         \u001b[0;32mwith\u001b[0m \u001b[0m_runtime\u001b[0m\u001b[0;34m.\u001b[0m\u001b[0mensure_context\u001b[0m\u001b[0;34m(\u001b[0m\u001b[0;34m)\u001b[0m\u001b[0;34m:\u001b[0m\u001b[0;34m\u001b[0m\u001b[0;34m\u001b[0m\u001b[0m\n\u001b[0;32m--> 225\u001b[0;31m             \u001b[0;32mreturn\u001b[0m \u001b[0mfn\u001b[0m\u001b[0;34m(\u001b[0m\u001b[0;34m*\u001b[0m\u001b[0margs\u001b[0m\u001b[0;34m,\u001b[0m \u001b[0;34m**\u001b[0m\u001b[0mkws\u001b[0m\u001b[0;34m)\u001b[0m\u001b[0;34m\u001b[0m\u001b[0;34m\u001b[0m\u001b[0m\n\u001b[0m\u001b[1;32m    226\u001b[0m \u001b[0;34m\u001b[0m\u001b[0m\n\u001b[1;32m    227\u001b[0m     \u001b[0;32mreturn\u001b[0m \u001b[0m_require_cuda_context\u001b[0m\u001b[0;34m\u001b[0m\u001b[0;34m\u001b[0m\u001b[0m\n",
      "\u001b[0;32m/gpfs/fs1/rlan/anaconda3/envs/cuml_rf_bench/lib/python3.7/site-packages/numba/cuda/cudadrv/devicearray.py\u001b[0m in \u001b[0;36mcopy_to_device\u001b[0;34m(self, ary, stream)\u001b[0m\n\u001b[1;32m    196\u001b[0m                 copy=not ary_core.flags['WRITEABLE'])\n\u001b[1;32m    197\u001b[0m             \u001b[0mcheck_array_compatibility\u001b[0m\u001b[0;34m(\u001b[0m\u001b[0mself_core\u001b[0m\u001b[0;34m,\u001b[0m \u001b[0mary_core\u001b[0m\u001b[0;34m)\u001b[0m\u001b[0;34m\u001b[0m\u001b[0;34m\u001b[0m\u001b[0m\n\u001b[0;32m--> 198\u001b[0;31m             \u001b[0m_driver\u001b[0m\u001b[0;34m.\u001b[0m\u001b[0mhost_to_device\u001b[0m\u001b[0;34m(\u001b[0m\u001b[0mself\u001b[0m\u001b[0;34m,\u001b[0m \u001b[0mary_core\u001b[0m\u001b[0;34m,\u001b[0m \u001b[0mself\u001b[0m\u001b[0;34m.\u001b[0m\u001b[0malloc_size\u001b[0m\u001b[0;34m,\u001b[0m \u001b[0mstream\u001b[0m\u001b[0;34m=\u001b[0m\u001b[0mstream\u001b[0m\u001b[0;34m)\u001b[0m\u001b[0;34m\u001b[0m\u001b[0;34m\u001b[0m\u001b[0m\n\u001b[0m\u001b[1;32m    199\u001b[0m \u001b[0;34m\u001b[0m\u001b[0m\n\u001b[1;32m    200\u001b[0m     \u001b[0;34m@\u001b[0m\u001b[0mdevices\u001b[0m\u001b[0;34m.\u001b[0m\u001b[0mrequire_context\u001b[0m\u001b[0;34m\u001b[0m\u001b[0;34m\u001b[0m\u001b[0m\n",
      "\u001b[0;32m/gpfs/fs1/rlan/anaconda3/envs/cuml_rf_bench/lib/python3.7/site-packages/numba/cuda/cudadrv/driver.py\u001b[0m in \u001b[0;36mhost_to_device\u001b[0;34m(dst, src, size, stream)\u001b[0m\n\u001b[1;32m   1894\u001b[0m         \u001b[0mfn\u001b[0m \u001b[0;34m=\u001b[0m \u001b[0mdriver\u001b[0m\u001b[0;34m.\u001b[0m\u001b[0mcuMemcpyHtoD\u001b[0m\u001b[0;34m\u001b[0m\u001b[0;34m\u001b[0m\u001b[0m\n\u001b[1;32m   1895\u001b[0m \u001b[0;34m\u001b[0m\u001b[0m\n\u001b[0;32m-> 1896\u001b[0;31m     \u001b[0mfn\u001b[0m\u001b[0;34m(\u001b[0m\u001b[0mdevice_pointer\u001b[0m\u001b[0;34m(\u001b[0m\u001b[0mdst\u001b[0m\u001b[0;34m)\u001b[0m\u001b[0;34m,\u001b[0m \u001b[0mhost_pointer\u001b[0m\u001b[0;34m(\u001b[0m\u001b[0msrc\u001b[0m\u001b[0;34m,\u001b[0m \u001b[0mreadonly\u001b[0m\u001b[0;34m=\u001b[0m\u001b[0;32mTrue\u001b[0m\u001b[0;34m)\u001b[0m\u001b[0;34m,\u001b[0m \u001b[0msize\u001b[0m\u001b[0;34m,\u001b[0m \u001b[0;34m*\u001b[0m\u001b[0mvarargs\u001b[0m\u001b[0;34m)\u001b[0m\u001b[0;34m\u001b[0m\u001b[0;34m\u001b[0m\u001b[0m\n\u001b[0m\u001b[1;32m   1897\u001b[0m \u001b[0;34m\u001b[0m\u001b[0m\n\u001b[1;32m   1898\u001b[0m \u001b[0;34m\u001b[0m\u001b[0m\n",
      "\u001b[0;32m/gpfs/fs1/rlan/anaconda3/envs/cuml_rf_bench/lib/python3.7/site-packages/numba/cuda/cudadrv/driver.py\u001b[0m in \u001b[0;36msafe_cuda_api_call\u001b[0;34m(*args)\u001b[0m\n\u001b[1;32m    292\u001b[0m             \u001b[0m_logger\u001b[0m\u001b[0;34m.\u001b[0m\u001b[0mdebug\u001b[0m\u001b[0;34m(\u001b[0m\u001b[0;34m'call driver api: %s'\u001b[0m\u001b[0;34m,\u001b[0m \u001b[0mlibfn\u001b[0m\u001b[0;34m.\u001b[0m\u001b[0m__name__\u001b[0m\u001b[0;34m)\u001b[0m\u001b[0;34m\u001b[0m\u001b[0;34m\u001b[0m\u001b[0m\n\u001b[1;32m    293\u001b[0m             \u001b[0mretcode\u001b[0m \u001b[0;34m=\u001b[0m \u001b[0mlibfn\u001b[0m\u001b[0;34m(\u001b[0m\u001b[0;34m*\u001b[0m\u001b[0margs\u001b[0m\u001b[0;34m)\u001b[0m\u001b[0;34m\u001b[0m\u001b[0;34m\u001b[0m\u001b[0m\n\u001b[0;32m--> 294\u001b[0;31m             \u001b[0mself\u001b[0m\u001b[0;34m.\u001b[0m\u001b[0m_check_error\u001b[0m\u001b[0;34m(\u001b[0m\u001b[0mfname\u001b[0m\u001b[0;34m,\u001b[0m \u001b[0mretcode\u001b[0m\u001b[0;34m)\u001b[0m\u001b[0;34m\u001b[0m\u001b[0;34m\u001b[0m\u001b[0m\n\u001b[0m\u001b[1;32m    295\u001b[0m         \u001b[0;32mreturn\u001b[0m \u001b[0msafe_cuda_api_call\u001b[0m\u001b[0;34m\u001b[0m\u001b[0;34m\u001b[0m\u001b[0m\n\u001b[1;32m    296\u001b[0m \u001b[0;34m\u001b[0m\u001b[0m\n",
      "\u001b[0;32m/gpfs/fs1/rlan/anaconda3/envs/cuml_rf_bench/lib/python3.7/site-packages/numba/cuda/cudadrv/driver.py\u001b[0m in \u001b[0;36m_check_error\u001b[0;34m(self, fname, retcode)\u001b[0m\n\u001b[1;32m    327\u001b[0m                     \u001b[0m_logger\u001b[0m\u001b[0;34m.\u001b[0m\u001b[0mcritical\u001b[0m\u001b[0;34m(\u001b[0m\u001b[0mmsg\u001b[0m\u001b[0;34m,\u001b[0m \u001b[0m_getpid\u001b[0m\u001b[0;34m(\u001b[0m\u001b[0;34m)\u001b[0m\u001b[0;34m,\u001b[0m \u001b[0mself\u001b[0m\u001b[0;34m.\u001b[0m\u001b[0mpid\u001b[0m\u001b[0;34m)\u001b[0m\u001b[0;34m\u001b[0m\u001b[0;34m\u001b[0m\u001b[0m\n\u001b[1;32m    328\u001b[0m                     \u001b[0;32mraise\u001b[0m \u001b[0mCudaDriverError\u001b[0m\u001b[0;34m(\u001b[0m\u001b[0;34m\"CUDA initialized before forking\"\u001b[0m\u001b[0;34m)\u001b[0m\u001b[0;34m\u001b[0m\u001b[0;34m\u001b[0m\u001b[0m\n\u001b[0;32m--> 329\u001b[0;31m             \u001b[0;32mraise\u001b[0m \u001b[0mCudaAPIError\u001b[0m\u001b[0;34m(\u001b[0m\u001b[0mretcode\u001b[0m\u001b[0;34m,\u001b[0m \u001b[0mmsg\u001b[0m\u001b[0;34m)\u001b[0m\u001b[0;34m\u001b[0m\u001b[0;34m\u001b[0m\u001b[0m\n\u001b[0m\u001b[1;32m    330\u001b[0m \u001b[0;34m\u001b[0m\u001b[0m\n\u001b[1;32m    331\u001b[0m     \u001b[0;32mdef\u001b[0m \u001b[0mget_device\u001b[0m\u001b[0;34m(\u001b[0m\u001b[0mself\u001b[0m\u001b[0;34m,\u001b[0m \u001b[0mdevnum\u001b[0m\u001b[0;34m=\u001b[0m\u001b[0;36m0\u001b[0m\u001b[0;34m)\u001b[0m\u001b[0;34m:\u001b[0m\u001b[0;34m\u001b[0m\u001b[0;34m\u001b[0m\u001b[0m\n",
      "\u001b[0;31mCudaAPIError\u001b[0m: [1] Call to cuMemcpyHtoD results in CUDA_ERROR_INVALID_VALUE"
     ]
    }
   ],
   "source": [
    "estimator_array = [100, 500, 1000]\n",
    "stream_array = [8, 10]\n",
    "depth_array = [8, 12, 16]\n",
    "run_cuml = True\n",
    "run_skl = True \n",
    "skip_test = True \n",
    "csv_path = './rf_bench_results/rf_bench_airline.csv'\n",
    "\n",
    "# CudaAPIError: [1] Call to cuMemcpyHtoD results in CUDA_ERROR_INVALID_VALUE\n",
    "# got this error even with numpy array with input \n",
    "start_bench(run_cuml, run_skl, skip_test, estimator_array, stream_array, depth_array, csv_path, X_train_np, y_train_np, X_train_np, X_test_np, X_test_np, y_test_np)\n"
   ]
  },
  {
   "cell_type": "markdown",
   "metadata": {},
   "source": [
    "## Epsilon"
   ]
  },
  {
   "cell_type": "code",
   "execution_count": 5,
   "metadata": {},
   "outputs": [
    {
     "name": "stdout",
     "output_type": "stream",
     "text": [
      "(400000, 2000)\n"
     ]
    }
   ],
   "source": [
    "from datasets import prepare_dataset\n",
    "\n",
    "data = prepare_dataset('./data/', 'epsilon', 500000)"
   ]
  },
  {
   "cell_type": "code",
   "execution_count": 19,
   "metadata": {},
   "outputs": [
    {
     "name": "stdout",
     "output_type": "stream",
     "text": [
      "(400000,)\n",
      "NP Shape of the training data :  (400000, 2000)\n",
      "NP Shape of the ground truth data used for training :  (400000,)\n",
      "NP Shape of the testing data :  (100000, 2000)\n",
      "NP Shape of the ground truth data used for testing :  (100000,)\n",
      "DF Shape of the training data :  (400000, 2000)\n",
      "DF Shape of the ground truth data used for training :  (400000, 1)\n"
     ]
    }
   ],
   "source": [
    "col_names = [\"col-{}\".format(i) for i in range(0, 2000)] # Assign column names\n",
    "X_train_df = pd.DataFrame(data.X_train, columns=col_names, dtype=np.float32)\n",
    "X_train_df_gpu = cudf.from_pandas(X_train_df)\n",
    "\n",
    "y_train_df = pd.DataFrame(data.y_train, columns=['label'], dtype=np.int32)\n",
    "y_train_df_gpu = cudf.from_pandas(y_train_df)\n",
    "\n",
    "print(\"NP Shape of the training data : \", data.X_train.shape)\n",
    "print(\"NP Shape of the ground truth data used for training : \", data.y_train.shape)\n",
    "print(\"NP Shape of the testing data : \", data.X_test.shape)\n",
    "print(\"NP Shape of the ground truth data used for testing : \", data.y_test.shape)\n",
    "print(\"DF Shape of the training data : \", X_train_df_gpu.shape)\n",
    "print(\"DF Shape of the ground truth data used for training : \", y_train_df_gpu.shape)"
   ]
  },
  {
   "cell_type": "code",
   "execution_count": 23,
   "metadata": {},
   "outputs": [
    {
     "name": "stdout",
     "output_type": "stream",
     "text": [
      "====>cuml====\n",
      "    cuml params:  {'n_estimators': 100, 'max_depth': 12, 'n_bins': 16, 'split_algo': 1, 'n_streams': 10}\n",
      "    cuml model:  {'n_estimators': 100, 'max_depth': 12, 'handle': <cuml.common.handle.Handle object at 0x7fd88e5e4d68>, 'max_features': 1.0, 'n_bins': 16, 'split_algo': 1, 'split_criterion': 0, 'min_rows_per_node': 2, 'bootstrap': True, 'bootstrap_features': False, 'verbose': False, 'rows_sample': 1.0, 'max_leaves': -1, 'quantile_per_tree': False}\n"
     ]
    },
    {
     "name": "stderr",
     "output_type": "stream",
     "text": [
      "/gpfs/fs1/rlan/anaconda3/envs/cuml_rf_bench/lib/python3.7/site-packages/ipykernel_launcher.py:28: UserWarning: Using NumPy for number of class detection,install CuPy for faster processing.\n"
     ]
    },
    {
     "ename": "RuntimeError",
     "evalue": "Exception occured! file=/gpfs/fs1/rlan/rf_bench/cuml/cpp/src_prims/common/cuml_allocator.hpp line=109: FAIL: call='cudaMalloc(&ptr, n)'. Reason:out of memory\n\nObtained 64 stack frames\n#0 in /gpfs/fs1/rlan/anaconda3/envs/cuml_rf_bench/lib/libcuml++.so(_ZN8MLCommon9Exception16collectCallStackEv+0x2b) [0x7fd7af76833b]\n#1 in /gpfs/fs1/rlan/anaconda3/envs/cuml_rf_bench/lib/libcuml++.so(_ZN8MLCommon9ExceptionC2ERKNSt7__cxx1112basic_stringIcSt11char_traitsIcESaIcEEE+0x62) [0x7fd7af769082]\n#2 in /gpfs/fs1/rlan/anaconda3/envs/cuml_rf_bench/lib/libcuml++.so(_ZN8MLCommon22defaultDeviceAllocator8allocateEmP11CUstream_st+0xc3) [0x7fd7af7692d3]\n#3 in /gpfs/fs1/rlan/anaconda3/envs/cuml_rf_bench/lib/libcuml++.so(_ZN8MLCommon11buffer_baseIjNS_15deviceAllocatorEEC2ESt10shared_ptrIS1_EP11CUstream_stm+0x83) [0x7fd7af7cc9b3]\n#4 in /gpfs/fs1/rlan/anaconda3/envs/cuml_rf_bench/lib/libcuml++.so(_ZN15TemporaryMemoryIfiE17LevelMemAllocatorEiiiiii+0x8fc) [0x7fd7af7cddec]\n#5 in /gpfs/fs1/rlan/anaconda3/envs/cuml_rf_bench/lib/libcuml++.so(_ZN2ML12rfClassifierIfE3fitERKNS_10cumlHandleEPKfiiPiiRPNS_20RandomForestMetaDataIfiEE+0x5e3) [0x7fd7af909db3]\n#6 in /gpfs/fs1/rlan/anaconda3/envs/cuml_rf_bench/lib/libcuml++.so(_ZN2ML3fitERKNS_10cumlHandleERPNS_20RandomForestMetaDataIfiEEPfiiPiiNS_9RF_paramsE+0x18e) [0x7fd7af8f530e]\n#7 in /gpfs/fs1/rlan/rf_bench/cuml/python/cuml/ensemble/randomforestclassifier.cpython-37m-x86_64-linux-gnu.so(+0x19280) [0x7fd78ebe1280]\n#8 in /gpfs/fs1/rlan/rf_bench/cuml/python/cuml/ensemble/randomforestclassifier.cpython-37m-x86_64-linux-gnu.so(+0x1cb52) [0x7fd78ebe4b52]\n#9 in /gpfs/fs1/rlan/anaconda3/envs/cuml_rf_bench/bin/python(_PyObject_FastCallKeywords+0x3fb) [0x55c73784a16b]\n#10 in /gpfs/fs1/rlan/anaconda3/envs/cuml_rf_bench/bin/python(_PyEval_EvalFrameDefault+0x53ae) [0x55c7378af49e]\n#11 in /gpfs/fs1/rlan/anaconda3/envs/cuml_rf_bench/bin/python(_PyFunction_FastCallKeywords+0xfb) [0x55c737840cfb]\n#12 in /gpfs/fs1/rlan/anaconda3/envs/cuml_rf_bench/bin/python(_PyEval_EvalFrameDefault+0x416) [0x55c7378aa506]\n#13 in /gpfs/fs1/rlan/anaconda3/envs/cuml_rf_bench/bin/python(_PyEval_EvalCodeWithName+0x2f9) [0x55c7377ef929]\n#14 in /gpfs/fs1/rlan/anaconda3/envs/cuml_rf_bench/bin/python(PyEval_EvalCodeEx+0x44) [0x55c7377f07e4]\n#15 in /gpfs/fs1/rlan/anaconda3/envs/cuml_rf_bench/bin/python(PyEval_EvalCode+0x1c) [0x55c7377f080c]\n#16 in /gpfs/fs1/rlan/anaconda3/envs/cuml_rf_bench/bin/python(+0x1e0c70) [0x55c7378b9c70]\n#17 in /gpfs/fs1/rlan/anaconda3/envs/cuml_rf_bench/bin/python(_PyMethodDef_RawFastCallKeywords+0xe9) [0x55c7378415f9]\n#18 in /gpfs/fs1/rlan/anaconda3/envs/cuml_rf_bench/bin/python(_PyCFunction_FastCallKeywords+0x21) [0x55c737841891]\n#19 in /gpfs/fs1/rlan/anaconda3/envs/cuml_rf_bench/bin/python(_PyEval_EvalFrameDefault+0x47d4) [0x55c7378ae8c4]\n#20 in /gpfs/fs1/rlan/anaconda3/envs/cuml_rf_bench/bin/python(_PyGen_Send+0x2a2) [0x55c73784aea2]\n#21 in /gpfs/fs1/rlan/anaconda3/envs/cuml_rf_bench/bin/python(_PyEval_EvalFrameDefault+0x1acc) [0x55c7378abbbc]\n#22 in /gpfs/fs1/rlan/anaconda3/envs/cuml_rf_bench/bin/python(_PyGen_Send+0x2a2) [0x55c73784aea2]\n#23 in /gpfs/fs1/rlan/anaconda3/envs/cuml_rf_bench/bin/python(_PyEval_EvalFrameDefault+0x1acc) [0x55c7378abbbc]\n#24 in /gpfs/fs1/rlan/anaconda3/envs/cuml_rf_bench/bin/python(_PyGen_Send+0x2a2) [0x55c73784aea2]\n#25 in /gpfs/fs1/rlan/anaconda3/envs/cuml_rf_bench/bin/python(_PyMethodDef_RawFastCallKeywords+0x8c) [0x55c73784159c]\n#26 in /gpfs/fs1/rlan/anaconda3/envs/cuml_rf_bench/bin/python(_PyMethodDescr_FastCallKeywords+0x4f) [0x55c737849cdf]\n#27 in /gpfs/fs1/rlan/anaconda3/envs/cuml_rf_bench/bin/python(_PyEval_EvalFrameDefault+0x4cbc) [0x55c7378aedac]\n#28 in /gpfs/fs1/rlan/anaconda3/envs/cuml_rf_bench/bin/python(_PyFunction_FastCallKeywords+0xfb) [0x55c737840cfb]\n#29 in /gpfs/fs1/rlan/anaconda3/envs/cuml_rf_bench/bin/python(_PyEval_EvalFrameDefault+0x416) [0x55c7378aa506]\n#30 in /gpfs/fs1/rlan/anaconda3/envs/cuml_rf_bench/bin/python(_PyFunction_FastCallKeywords+0xfb) [0x55c737840cfb]\n#31 in /gpfs/fs1/rlan/anaconda3/envs/cuml_rf_bench/bin/python(_PyEval_EvalFrameDefault+0x6f0) [0x55c7378aa7e0]\n#32 in /gpfs/fs1/rlan/anaconda3/envs/cuml_rf_bench/bin/python(_PyEval_EvalCodeWithName+0x2f9) [0x55c7377ef929]\n#33 in /gpfs/fs1/rlan/anaconda3/envs/cuml_rf_bench/bin/python(_PyFunction_FastCallDict+0x400) [0x55c7377f0c20]\n#34 in /gpfs/fs1/rlan/anaconda3/envs/cuml_rf_bench/bin/python(_PyObject_Call_Prepend+0x63) [0x55c73780fe23]\n#35 in /gpfs/fs1/rlan/anaconda3/envs/cuml_rf_bench/bin/python(PyObject_Call+0x6e) [0x55c73780251e]\n#36 in /gpfs/fs1/rlan/anaconda3/envs/cuml_rf_bench/bin/python(_PyEval_EvalFrameDefault+0x1f4c) [0x55c7378ac03c]\n#37 in /gpfs/fs1/rlan/anaconda3/envs/cuml_rf_bench/bin/python(_PyEval_EvalCodeWithName+0x5da) [0x55c7377efc0a]\n#38 in /gpfs/fs1/rlan/anaconda3/envs/cuml_rf_bench/bin/python(_PyFunction_FastCallKeywords+0x387) [0x55c737840f87]\n#39 in /gpfs/fs1/rlan/anaconda3/envs/cuml_rf_bench/bin/python(_PyEval_EvalFrameDefault+0x14dc) [0x55c7378ab5cc]\n#40 in /gpfs/fs1/rlan/anaconda3/envs/cuml_rf_bench/bin/python(+0x171969) [0x55c73784a969]\n#41 in /gpfs/fs1/rlan/anaconda3/envs/cuml_rf_bench/bin/python(_PyMethodDef_RawFastCallKeywords+0xe9) [0x55c7378415f9]\n#42 in /gpfs/fs1/rlan/anaconda3/envs/cuml_rf_bench/bin/python(_PyCFunction_FastCallKeywords+0x21) [0x55c737841891]\n#43 in /gpfs/fs1/rlan/anaconda3/envs/cuml_rf_bench/bin/python(_PyEval_EvalFrameDefault+0x47d4) [0x55c7378ae8c4]\n#44 in /gpfs/fs1/rlan/anaconda3/envs/cuml_rf_bench/bin/python(_PyEval_EvalCodeWithName+0x5da) [0x55c7377efc0a]\n#45 in /gpfs/fs1/rlan/anaconda3/envs/cuml_rf_bench/bin/python(_PyFunction_FastCallKeywords+0x387) [0x55c737840f87]\n#46 in /gpfs/fs1/rlan/anaconda3/envs/cuml_rf_bench/bin/python(_PyEval_EvalFrameDefault+0x6f0) [0x55c7378aa7e0]\n#47 in /gpfs/fs1/rlan/anaconda3/envs/cuml_rf_bench/bin/python(+0x171969) [0x55c73784a969]\n#48 in /gpfs/fs1/rlan/anaconda3/envs/cuml_rf_bench/bin/python(_PyMethodDef_RawFastCallKeywords+0xe9) [0x55c7378415f9]\n#49 in /gpfs/fs1/rlan/anaconda3/envs/cuml_rf_bench/bin/python(_PyCFunction_FastCallKeywords+0x21) [0x55c737841891]\n#50 in /gpfs/fs1/rlan/anaconda3/envs/cuml_rf_bench/bin/python(_PyEval_EvalFrameDefault+0x47d4) [0x55c7378ae8c4]\n#51 in /gpfs/fs1/rlan/anaconda3/envs/cuml_rf_bench/bin/python(_PyEval_EvalCodeWithName+0x5da) [0x55c7377efc0a]\n#52 in /gpfs/fs1/rlan/anaconda3/envs/cuml_rf_bench/bin/python(_PyFunction_FastCallKeywords+0x387) [0x55c737840f87]\n#53 in /gpfs/fs1/rlan/anaconda3/envs/cuml_rf_bench/bin/python(_PyEval_EvalFrameDefault+0x416) [0x55c7378aa506]\n#54 in /gpfs/fs1/rlan/anaconda3/envs/cuml_rf_bench/bin/python(+0x171969) [0x55c73784a969]\n#55 in /gpfs/fs1/rlan/anaconda3/envs/cuml_rf_bench/bin/python(_PyMethodDef_RawFastCallKeywords+0xe9) [0x55c7378415f9]\n#56 in /gpfs/fs1/rlan/anaconda3/envs/cuml_rf_bench/bin/python(_PyCFunction_FastCallKeywords+0x21) [0x55c737841891]\n#57 in /gpfs/fs1/rlan/anaconda3/envs/cuml_rf_bench/bin/python(_PyEval_EvalFrameDefault+0x47d4) [0x55c7378ae8c4]\n#58 in /gpfs/fs1/rlan/anaconda3/envs/cuml_rf_bench/bin/python(_PyEval_EvalCodeWithName+0x5da) [0x55c7377efc0a]\n#59 in /gpfs/fs1/rlan/anaconda3/envs/cuml_rf_bench/bin/python(_PyFunction_FastCallDict+0x1d5) [0x55c7377f09f5]\n#60 in /gpfs/fs1/rlan/anaconda3/envs/cuml_rf_bench/bin/python(_PyObject_Call_Prepend+0x63) [0x55c73780fe23]\n#61 in /gpfs/fs1/rlan/anaconda3/envs/cuml_rf_bench/bin/python(PyObject_Call+0x6e) [0x55c73780251e]\n#62 in /gpfs/fs1/rlan/anaconda3/envs/cuml_rf_bench/bin/python(_PyEval_EvalFrameDefault+0x1f4c) [0x55c7378ac03c]\n#63 in /gpfs/fs1/rlan/anaconda3/envs/cuml_rf_bench/bin/python(_PyGen_Send+0x14c) [0x55c73784ad4c]\n",
     "output_type": "error",
     "traceback": [
      "\u001b[0;31m---------------------------------------------------------------------------\u001b[0m",
      "\u001b[0;31mRuntimeError\u001b[0m                              Traceback (most recent call last)",
      "\u001b[0;32m<ipython-input-23-39bcc66c9096>\u001b[0m in \u001b[0;36m<module>\u001b[0;34m\u001b[0m\n\u001b[1;32m      7\u001b[0m \u001b[0mcsv_path\u001b[0m \u001b[0;34m=\u001b[0m \u001b[0;34m'./rf_bench_results/rf_bench_epsilon.csv'\u001b[0m\u001b[0;34m\u001b[0m\u001b[0;34m\u001b[0m\u001b[0m\n\u001b[1;32m      8\u001b[0m \u001b[0;34m\u001b[0m\u001b[0m\n\u001b[0;32m----> 9\u001b[0;31m \u001b[0mstart_bench\u001b[0m\u001b[0;34m(\u001b[0m\u001b[0mrun_cuml\u001b[0m\u001b[0;34m,\u001b[0m \u001b[0mrun_skl\u001b[0m\u001b[0;34m,\u001b[0m \u001b[0mskip_test\u001b[0m\u001b[0;34m,\u001b[0m \u001b[0mestimator_array\u001b[0m\u001b[0;34m,\u001b[0m \u001b[0mstream_array\u001b[0m\u001b[0;34m,\u001b[0m \u001b[0mdepth_array\u001b[0m\u001b[0;34m,\u001b[0m \u001b[0mcsv_path\u001b[0m\u001b[0;34m,\u001b[0m \u001b[0mX_train_df_gpu\u001b[0m\u001b[0;34m,\u001b[0m \u001b[0my_train_df_gpu\u001b[0m\u001b[0;34m,\u001b[0m \u001b[0mdata\u001b[0m\u001b[0;34m.\u001b[0m\u001b[0mX_train\u001b[0m\u001b[0;34m,\u001b[0m \u001b[0mdata\u001b[0m\u001b[0;34m.\u001b[0m\u001b[0my_train\u001b[0m\u001b[0;34m,\u001b[0m \u001b[0mdata\u001b[0m\u001b[0;34m.\u001b[0m\u001b[0mX_test\u001b[0m\u001b[0;34m,\u001b[0m \u001b[0mdata\u001b[0m\u001b[0;34m.\u001b[0m\u001b[0my_test\u001b[0m\u001b[0;34m)\u001b[0m\u001b[0;34m\u001b[0m\u001b[0;34m\u001b[0m\u001b[0m\n\u001b[0m\u001b[1;32m     10\u001b[0m \u001b[0;34m\u001b[0m\u001b[0m\n",
      "\u001b[0;32m<ipython-input-3-4ec9c6f6eacf>\u001b[0m in \u001b[0;36mstart_bench\u001b[0;34m(run_cuml, run_skl, skip_test, estimator_array, stream_array, depth_array, csv_path, X_train, y_train, X_train_np, y_train_np, X_test_np, y_test_np)\u001b[0m\n\u001b[1;32m     26\u001b[0m \u001b[0;34m\u001b[0m\u001b[0m\n\u001b[1;32m     27\u001b[0m                     \u001b[0mt0\u001b[0m \u001b[0;34m=\u001b[0m \u001b[0mtime\u001b[0m\u001b[0;34m.\u001b[0m\u001b[0mtime\u001b[0m\u001b[0;34m(\u001b[0m\u001b[0;34m)\u001b[0m\u001b[0;34m\u001b[0m\u001b[0;34m\u001b[0m\u001b[0m\n\u001b[0;32m---> 28\u001b[0;31m                     \u001b[0mcu_rf\u001b[0m\u001b[0;34m.\u001b[0m\u001b[0mfit\u001b[0m\u001b[0;34m(\u001b[0m\u001b[0mX_train\u001b[0m\u001b[0;34m,\u001b[0m \u001b[0my_train\u001b[0m\u001b[0;34m)\u001b[0m\u001b[0;34m\u001b[0m\u001b[0;34m\u001b[0m\u001b[0m\n\u001b[0m\u001b[1;32m     29\u001b[0m                     \u001b[0mcu_fit_time\u001b[0m \u001b[0;34m=\u001b[0m \u001b[0mtime\u001b[0m\u001b[0;34m.\u001b[0m\u001b[0mtime\u001b[0m\u001b[0;34m(\u001b[0m\u001b[0;34m)\u001b[0m \u001b[0;34m-\u001b[0m \u001b[0mt0\u001b[0m\u001b[0;34m\u001b[0m\u001b[0;34m\u001b[0m\u001b[0m\n\u001b[1;32m     30\u001b[0m \u001b[0;34m\u001b[0m\u001b[0m\n",
      "\u001b[0;32m/gpfs/fs1/rlan/rf_bench/cuml/python/cuml/ensemble/randomforestclassifier.pyx\u001b[0m in \u001b[0;36mcuml.ensemble.randomforestclassifier.RandomForestClassifier.fit\u001b[0;34m()\u001b[0m\n",
      "\u001b[0;31mRuntimeError\u001b[0m: Exception occured! file=/gpfs/fs1/rlan/rf_bench/cuml/cpp/src_prims/common/cuml_allocator.hpp line=109: FAIL: call='cudaMalloc(&ptr, n)'. Reason:out of memory\n\nObtained 64 stack frames\n#0 in /gpfs/fs1/rlan/anaconda3/envs/cuml_rf_bench/lib/libcuml++.so(_ZN8MLCommon9Exception16collectCallStackEv+0x2b) [0x7fd7af76833b]\n#1 in /gpfs/fs1/rlan/anaconda3/envs/cuml_rf_bench/lib/libcuml++.so(_ZN8MLCommon9ExceptionC2ERKNSt7__cxx1112basic_stringIcSt11char_traitsIcESaIcEEE+0x62) [0x7fd7af769082]\n#2 in /gpfs/fs1/rlan/anaconda3/envs/cuml_rf_bench/lib/libcuml++.so(_ZN8MLCommon22defaultDeviceAllocator8allocateEmP11CUstream_st+0xc3) [0x7fd7af7692d3]\n#3 in /gpfs/fs1/rlan/anaconda3/envs/cuml_rf_bench/lib/libcuml++.so(_ZN8MLCommon11buffer_baseIjNS_15deviceAllocatorEEC2ESt10shared_ptrIS1_EP11CUstream_stm+0x83) [0x7fd7af7cc9b3]\n#4 in /gpfs/fs1/rlan/anaconda3/envs/cuml_rf_bench/lib/libcuml++.so(_ZN15TemporaryMemoryIfiE17LevelMemAllocatorEiiiiii+0x8fc) [0x7fd7af7cddec]\n#5 in /gpfs/fs1/rlan/anaconda3/envs/cuml_rf_bench/lib/libcuml++.so(_ZN2ML12rfClassifierIfE3fitERKNS_10cumlHandleEPKfiiPiiRPNS_20RandomForestMetaDataIfiEE+0x5e3) [0x7fd7af909db3]\n#6 in /gpfs/fs1/rlan/anaconda3/envs/cuml_rf_bench/lib/libcuml++.so(_ZN2ML3fitERKNS_10cumlHandleERPNS_20RandomForestMetaDataIfiEEPfiiPiiNS_9RF_paramsE+0x18e) [0x7fd7af8f530e]\n#7 in /gpfs/fs1/rlan/rf_bench/cuml/python/cuml/ensemble/randomforestclassifier.cpython-37m-x86_64-linux-gnu.so(+0x19280) [0x7fd78ebe1280]\n#8 in /gpfs/fs1/rlan/rf_bench/cuml/python/cuml/ensemble/randomforestclassifier.cpython-37m-x86_64-linux-gnu.so(+0x1cb52) [0x7fd78ebe4b52]\n#9 in /gpfs/fs1/rlan/anaconda3/envs/cuml_rf_bench/bin/python(_PyObject_FastCallKeywords+0x3fb) [0x55c73784a16b]\n#10 in /gpfs/fs1/rlan/anaconda3/envs/cuml_rf_bench/bin/python(_PyEval_EvalFrameDefault+0x53ae) [0x55c7378af49e]\n#11 in /gpfs/fs1/rlan/anaconda3/envs/cuml_rf_bench/bin/python(_PyFunction_FastCallKeywords+0xfb) [0x55c737840cfb]\n#12 in /gpfs/fs1/rlan/anaconda3/envs/cuml_rf_bench/bin/python(_PyEval_EvalFrameDefault+0x416) [0x55c7378aa506]\n#13 in /gpfs/fs1/rlan/anaconda3/envs/cuml_rf_bench/bin/python(_PyEval_EvalCodeWithName+0x2f9) [0x55c7377ef929]\n#14 in /gpfs/fs1/rlan/anaconda3/envs/cuml_rf_bench/bin/python(PyEval_EvalCodeEx+0x44) [0x55c7377f07e4]\n#15 in /gpfs/fs1/rlan/anaconda3/envs/cuml_rf_bench/bin/python(PyEval_EvalCode+0x1c) [0x55c7377f080c]\n#16 in /gpfs/fs1/rlan/anaconda3/envs/cuml_rf_bench/bin/python(+0x1e0c70) [0x55c7378b9c70]\n#17 in /gpfs/fs1/rlan/anaconda3/envs/cuml_rf_bench/bin/python(_PyMethodDef_RawFastCallKeywords+0xe9) [0x55c7378415f9]\n#18 in /gpfs/fs1/rlan/anaconda3/envs/cuml_rf_bench/bin/python(_PyCFunction_FastCallKeywords+0x21) [0x55c737841891]\n#19 in /gpfs/fs1/rlan/anaconda3/envs/cuml_rf_bench/bin/python(_PyEval_EvalFrameDefault+0x47d4) [0x55c7378ae8c4]\n#20 in /gpfs/fs1/rlan/anaconda3/envs/cuml_rf_bench/bin/python(_PyGen_Send+0x2a2) [0x55c73784aea2]\n#21 in /gpfs/fs1/rlan/anaconda3/envs/cuml_rf_bench/bin/python(_PyEval_EvalFrameDefault+0x1acc) [0x55c7378abbbc]\n#22 in /gpfs/fs1/rlan/anaconda3/envs/cuml_rf_bench/bin/python(_PyGen_Send+0x2a2) [0x55c73784aea2]\n#23 in /gpfs/fs1/rlan/anaconda3/envs/cuml_rf_bench/bin/python(_PyEval_EvalFrameDefault+0x1acc) [0x55c7378abbbc]\n#24 in /gpfs/fs1/rlan/anaconda3/envs/cuml_rf_bench/bin/python(_PyGen_Send+0x2a2) [0x55c73784aea2]\n#25 in /gpfs/fs1/rlan/anaconda3/envs/cuml_rf_bench/bin/python(_PyMethodDef_RawFastCallKeywords+0x8c) [0x55c73784159c]\n#26 in /gpfs/fs1/rlan/anaconda3/envs/cuml_rf_bench/bin/python(_PyMethodDescr_FastCallKeywords+0x4f) [0x55c737849cdf]\n#27 in /gpfs/fs1/rlan/anaconda3/envs/cuml_rf_bench/bin/python(_PyEval_EvalFrameDefault+0x4cbc) [0x55c7378aedac]\n#28 in /gpfs/fs1/rlan/anaconda3/envs/cuml_rf_bench/bin/python(_PyFunction_FastCallKeywords+0xfb) [0x55c737840cfb]\n#29 in /gpfs/fs1/rlan/anaconda3/envs/cuml_rf_bench/bin/python(_PyEval_EvalFrameDefault+0x416) [0x55c7378aa506]\n#30 in /gpfs/fs1/rlan/anaconda3/envs/cuml_rf_bench/bin/python(_PyFunction_FastCallKeywords+0xfb) [0x55c737840cfb]\n#31 in /gpfs/fs1/rlan/anaconda3/envs/cuml_rf_bench/bin/python(_PyEval_EvalFrameDefault+0x6f0) [0x55c7378aa7e0]\n#32 in /gpfs/fs1/rlan/anaconda3/envs/cuml_rf_bench/bin/python(_PyEval_EvalCodeWithName+0x2f9) [0x55c7377ef929]\n#33 in /gpfs/fs1/rlan/anaconda3/envs/cuml_rf_bench/bin/python(_PyFunction_FastCallDict+0x400) [0x55c7377f0c20]\n#34 in /gpfs/fs1/rlan/anaconda3/envs/cuml_rf_bench/bin/python(_PyObject_Call_Prepend+0x63) [0x55c73780fe23]\n#35 in /gpfs/fs1/rlan/anaconda3/envs/cuml_rf_bench/bin/python(PyObject_Call+0x6e) [0x55c73780251e]\n#36 in /gpfs/fs1/rlan/anaconda3/envs/cuml_rf_bench/bin/python(_PyEval_EvalFrameDefault+0x1f4c) [0x55c7378ac03c]\n#37 in /gpfs/fs1/rlan/anaconda3/envs/cuml_rf_bench/bin/python(_PyEval_EvalCodeWithName+0x5da) [0x55c7377efc0a]\n#38 in /gpfs/fs1/rlan/anaconda3/envs/cuml_rf_bench/bin/python(_PyFunction_FastCallKeywords+0x387) [0x55c737840f87]\n#39 in /gpfs/fs1/rlan/anaconda3/envs/cuml_rf_bench/bin/python(_PyEval_EvalFrameDefault+0x14dc) [0x55c7378ab5cc]\n#40 in /gpfs/fs1/rlan/anaconda3/envs/cuml_rf_bench/bin/python(+0x171969) [0x55c73784a969]\n#41 in /gpfs/fs1/rlan/anaconda3/envs/cuml_rf_bench/bin/python(_PyMethodDef_RawFastCallKeywords+0xe9) [0x55c7378415f9]\n#42 in /gpfs/fs1/rlan/anaconda3/envs/cuml_rf_bench/bin/python(_PyCFunction_FastCallKeywords+0x21) [0x55c737841891]\n#43 in /gpfs/fs1/rlan/anaconda3/envs/cuml_rf_bench/bin/python(_PyEval_EvalFrameDefault+0x47d4) [0x55c7378ae8c4]\n#44 in /gpfs/fs1/rlan/anaconda3/envs/cuml_rf_bench/bin/python(_PyEval_EvalCodeWithName+0x5da) [0x55c7377efc0a]\n#45 in /gpfs/fs1/rlan/anaconda3/envs/cuml_rf_bench/bin/python(_PyFunction_FastCallKeywords+0x387) [0x55c737840f87]\n#46 in /gpfs/fs1/rlan/anaconda3/envs/cuml_rf_bench/bin/python(_PyEval_EvalFrameDefault+0x6f0) [0x55c7378aa7e0]\n#47 in /gpfs/fs1/rlan/anaconda3/envs/cuml_rf_bench/bin/python(+0x171969) [0x55c73784a969]\n#48 in /gpfs/fs1/rlan/anaconda3/envs/cuml_rf_bench/bin/python(_PyMethodDef_RawFastCallKeywords+0xe9) [0x55c7378415f9]\n#49 in /gpfs/fs1/rlan/anaconda3/envs/cuml_rf_bench/bin/python(_PyCFunction_FastCallKeywords+0x21) [0x55c737841891]\n#50 in /gpfs/fs1/rlan/anaconda3/envs/cuml_rf_bench/bin/python(_PyEval_EvalFrameDefault+0x47d4) [0x55c7378ae8c4]\n#51 in /gpfs/fs1/rlan/anaconda3/envs/cuml_rf_bench/bin/python(_PyEval_EvalCodeWithName+0x5da) [0x55c7377efc0a]\n#52 in /gpfs/fs1/rlan/anaconda3/envs/cuml_rf_bench/bin/python(_PyFunction_FastCallKeywords+0x387) [0x55c737840f87]\n#53 in /gpfs/fs1/rlan/anaconda3/envs/cuml_rf_bench/bin/python(_PyEval_EvalFrameDefault+0x416) [0x55c7378aa506]\n#54 in /gpfs/fs1/rlan/anaconda3/envs/cuml_rf_bench/bin/python(+0x171969) [0x55c73784a969]\n#55 in /gpfs/fs1/rlan/anaconda3/envs/cuml_rf_bench/bin/python(_PyMethodDef_RawFastCallKeywords+0xe9) [0x55c7378415f9]\n#56 in /gpfs/fs1/rlan/anaconda3/envs/cuml_rf_bench/bin/python(_PyCFunction_FastCallKeywords+0x21) [0x55c737841891]\n#57 in /gpfs/fs1/rlan/anaconda3/envs/cuml_rf_bench/bin/python(_PyEval_EvalFrameDefault+0x47d4) [0x55c7378ae8c4]\n#58 in /gpfs/fs1/rlan/anaconda3/envs/cuml_rf_bench/bin/python(_PyEval_EvalCodeWithName+0x5da) [0x55c7377efc0a]\n#59 in /gpfs/fs1/rlan/anaconda3/envs/cuml_rf_bench/bin/python(_PyFunction_FastCallDict+0x1d5) [0x55c7377f09f5]\n#60 in /gpfs/fs1/rlan/anaconda3/envs/cuml_rf_bench/bin/python(_PyObject_Call_Prepend+0x63) [0x55c73780fe23]\n#61 in /gpfs/fs1/rlan/anaconda3/envs/cuml_rf_bench/bin/python(PyObject_Call+0x6e) [0x55c73780251e]\n#62 in /gpfs/fs1/rlan/anaconda3/envs/cuml_rf_bench/bin/python(_PyEval_EvalFrameDefault+0x1f4c) [0x55c7378ac03c]\n#63 in /gpfs/fs1/rlan/anaconda3/envs/cuml_rf_bench/bin/python(_PyGen_Send+0x14c) [0x55c73784ad4c]\n"
     ]
    }
   ],
   "source": [
    "estimator_array = [100, 500, 1000]\n",
    "stream_array = [8, 10]\n",
    "depth_array = [8, 12, 16]\n",
    "run_cuml = True\n",
    "run_skl = True \n",
    "skip_test = True \n",
    "csv_path = './rf_bench_results/rf_bench_epsilon.csv'\n",
    "\n",
    "start_bench(run_cuml, run_skl, skip_test, estimator_array, stream_array, depth_array, csv_path, X_train_df_gpu, y_train_df_gpu, data.X_train, data.y_train, data.X_test, data.y_test)\n",
    "\n"
   ]
  },
  {
   "cell_type": "markdown",
   "metadata": {},
   "source": [
    "## Bosch"
   ]
  },
  {
   "cell_type": "code",
   "execution_count": 16,
   "metadata": {},
   "outputs": [
    {
     "name": "stdout",
     "output_type": "stream",
     "text": [
      "NP Shape of the training data :  (946997, 968)\n",
      "NP Shape of the ground truth data used for training :  (946997,)\n",
      "NP Shape of the testing data :  (236750, 968)\n",
      "NP Shape of the ground truth data used for testing :  (236750,)\n"
     ]
    }
   ],
   "source": [
    "from datasets import prepare_dataset\n",
    "\n",
    "data = prepare_dataset('./data/', 'bosch', 1184000)\n",
    "\n",
    "data.X_train = data.X_train.astype(np.float32)\n",
    "data.X_test = data.X_test.astype(np.float32)\n",
    "data.y_train = data.y_train.astype(np.int32)\n",
    "data.y_test = data.y_test.astype(np.int32)\n",
    "\n",
    "X_train_np = data.X_train.to_numpy()\n",
    "X_test_np = data.X_test.to_numpy()\n",
    "y_train_np = data.y_train.to_numpy()\n",
    "y_test_np = data.y_test.to_numpy()\n",
    "\n",
    "# OOM \n",
    "# X_train_df = cudf.from_pandas(data.X_train)\n",
    "# y_train_df = cudf.from_pandas(data.y_train)\n",
    "\n",
    "print(\"NP Shape of the training data : \", X_train_np.shape)\n",
    "print(\"NP Shape of the ground truth data used for training : \", y_train_np.shape)\n",
    "print(\"NP Shape of the testing data : \", X_test_np.shape)\n",
    "print(\"NP Shape of the ground truth data used for testing : \", y_test_np.shape)\n",
    "# print(\"DF Shape of the training data : \", X_train_df.shape)\n",
    "# print(\"DF Shape of the ground truth data used for training : \", y_train_df.shape)"
   ]
  },
  {
   "cell_type": "code",
   "execution_count": 23,
   "metadata": {},
   "outputs": [
    {
     "name": "stdout",
     "output_type": "stream",
     "text": [
      "(array([], dtype=int64), array([], dtype=int64))\n",
      "(array([     0,      0,      0, ..., 236749, 236749, 236749]), array([ 23,  24,  25, ..., 954, 955, 956]))\n"
     ]
    }
   ],
   "source": [
    "# X_train contains NaN \n",
    "print(np.where(np.isnan(X_train_np)))\n",
    "# fill with zero \n",
    "# otherwise sklearn has error: ValueError: Input contains NaN, infinity or a value too large for dtype('float32').\n",
    "X_train_np = np.nan_to_num(X_train_np)\n",
    "\n",
    "# X_test contains NaN \n",
    "print(np.where(np.isnan(X_test_np)))\n",
    "# fill with zero \n",
    "# otherwise sklearn has error: ValueError: Input contains NaN, infinity or a value too large for dtype('float32').\n",
    "X_test_np = np.nan_to_num(X_test_np)"
   ]
  },
  {
   "cell_type": "code",
   "execution_count": 26,
   "metadata": {},
   "outputs": [
    {
     "name": "stdout",
     "output_type": "stream",
     "text": [
      "====>cuml====\n",
      "    cuml params:  {'n_estimators': 100, 'max_depth': 8, 'n_bins': 16, 'split_algo': 1, 'n_streams': 8}\n",
      "    cuml model:  {'n_estimators': 100, 'max_depth': 8, 'handle': <cuml.common.handle.Handle object at 0x7ff99bf16c90>, 'max_features': 1.0, 'n_bins': 16, 'split_algo': 1, 'split_criterion': 0, 'min_rows_per_node': 2, 'bootstrap': True, 'bootstrap_features': False, 'verbose': False, 'rows_sample': 1.0, 'max_leaves': -1, 'quantile_per_tree': False}\n"
     ]
    },
    {
     "name": "stderr",
     "output_type": "stream",
     "text": [
      "/gpfs/fs1/rlan/anaconda3/envs/cuml_rf_bench/lib/python3.7/site-packages/ipykernel_launcher.py:28: UserWarning: Using NumPy for number of class detection,install CuPy for faster processing.\n"
     ]
    },
    {
     "name": "stdout",
     "output_type": "stream",
     "text": [
      "    cuml fits RF:  68.05904006958008\n",
      "    cuml total time:  68.62241744995117\n",
      "    cuml acc:  0.99\n",
      "====>sklearn====\n",
      "    skl params:  {'n_estimators': 100, 'max_depth': 8, 'n_bins': 16, 'split_algo': 1, 'n_streams': 8}\n",
      "    skl fits RF:  22.116517305374146\n",
      "    skl total time:  22.73055362701416\n",
      "    skl acc:  0.99\n",
      "   acc_score_cuml  acc_score_skl  cu_fit_time  skl_fit_time\n",
      "0            0.99           0.99     68.05904     22.116517\n",
      "====>cuml====\n",
      "    cuml params:  {'n_estimators': 100, 'max_depth': 8, 'n_bins': 16, 'split_algo': 1, 'n_streams': 10}\n",
      "    cuml model:  {'n_estimators': 100, 'max_depth': 8, 'handle': <cuml.common.handle.Handle object at 0x7ff99bf16db0>, 'max_features': 1.0, 'n_bins': 16, 'split_algo': 1, 'split_criterion': 0, 'min_rows_per_node': 2, 'bootstrap': True, 'bootstrap_features': False, 'verbose': False, 'rows_sample': 1.0, 'max_leaves': -1, 'quantile_per_tree': False}\n"
     ]
    },
    {
     "name": "stderr",
     "output_type": "stream",
     "text": [
      "/gpfs/fs1/rlan/anaconda3/envs/cuml_rf_bench/lib/python3.7/site-packages/ipykernel_launcher.py:28: UserWarning: Using NumPy for number of class detection,install CuPy for faster processing.\n"
     ]
    },
    {
     "name": "stdout",
     "output_type": "stream",
     "text": [
      "    cuml fits RF:  68.04239845275879\n",
      "    cuml total time:  68.54566097259521\n",
      "    cuml acc:  0.99\n",
      "   acc_score_cuml  acc_score_skl  cu_fit_time  skl_fit_time\n",
      "0            0.99           0.99    68.059040     22.116517\n",
      "1            0.99           0.00    68.042398      0.000000\n",
      "====>cuml====\n",
      "    cuml params:  {'n_estimators': 500, 'max_depth': 8, 'n_bins': 16, 'split_algo': 1, 'n_streams': 8}\n",
      "    cuml model:  {'n_estimators': 500, 'max_depth': 8, 'handle': <cuml.common.handle.Handle object at 0x7ff99bf16f90>, 'max_features': 1.0, 'n_bins': 16, 'split_algo': 1, 'split_criterion': 0, 'min_rows_per_node': 2, 'bootstrap': True, 'bootstrap_features': False, 'verbose': False, 'rows_sample': 1.0, 'max_leaves': -1, 'quantile_per_tree': False}\n",
      "    cuml fits RF:  316.58206844329834\n",
      "    cuml total time:  319.22181463241577\n",
      "    cuml acc:  0.99\n",
      "====>sklearn====\n",
      "    skl params:  {'n_estimators': 500, 'max_depth': 8, 'n_bins': 16, 'split_algo': 1, 'n_streams': 8}\n",
      "    skl fits RF:  89.02854681015015\n",
      "    skl total time:  89.2560567855835\n",
      "    skl acc:  0.99\n",
      "   acc_score_cuml  acc_score_skl  cu_fit_time  skl_fit_time\n",
      "0            0.99           0.99    68.059040     22.116517\n",
      "1            0.99           0.00    68.042398      0.000000\n",
      "2            0.99           0.99   316.582068     89.028547\n",
      "====>cuml====\n",
      "    cuml params:  {'n_estimators': 500, 'max_depth': 8, 'n_bins': 16, 'split_algo': 1, 'n_streams': 10}\n",
      "    cuml model:  {'n_estimators': 500, 'max_depth': 8, 'handle': <cuml.common.handle.Handle object at 0x7ff99bf36138>, 'max_features': 1.0, 'n_bins': 16, 'split_algo': 1, 'split_criterion': 0, 'min_rows_per_node': 2, 'bootstrap': True, 'bootstrap_features': False, 'verbose': False, 'rows_sample': 1.0, 'max_leaves': -1, 'quantile_per_tree': False}\n"
     ]
    },
    {
     "name": "stderr",
     "output_type": "stream",
     "text": [
      "/gpfs/fs1/rlan/anaconda3/envs/cuml_rf_bench/lib/python3.7/site-packages/ipykernel_launcher.py:28: UserWarning: Using NumPy for number of class detection,install CuPy for faster processing.\n"
     ]
    },
    {
     "name": "stdout",
     "output_type": "stream",
     "text": [
      "    cuml fits RF:  316.32362055778503\n",
      "    cuml total time:  318.9319658279419\n",
      "    cuml acc:  0.99\n",
      "   acc_score_cuml  acc_score_skl  cu_fit_time  skl_fit_time\n",
      "0            0.99           0.99    68.059040     22.116517\n",
      "1            0.99           0.00    68.042398      0.000000\n",
      "2            0.99           0.99   316.582068     89.028547\n",
      "3            0.99           0.00   316.323621      0.000000\n",
      "====>cuml====\n",
      "    cuml params:  {'n_estimators': 1000, 'max_depth': 8, 'n_bins': 16, 'split_algo': 1, 'n_streams': 8}\n",
      "    cuml model:  {'n_estimators': 1000, 'max_depth': 8, 'handle': <cuml.common.handle.Handle object at 0x7ff99bf363a8>, 'max_features': 1.0, 'n_bins': 16, 'split_algo': 1, 'split_criterion': 0, 'min_rows_per_node': 2, 'bootstrap': True, 'bootstrap_features': False, 'verbose': False, 'rows_sample': 1.0, 'max_leaves': -1, 'quantile_per_tree': False}\n",
      "    cuml fits RF:  626.5133574008942\n",
      "    cuml total time:  631.721670627594\n",
      "    cuml acc:  0.99\n",
      "====>sklearn====\n",
      "    skl params:  {'n_estimators': 1000, 'max_depth': 8, 'n_bins': 16, 'split_algo': 1, 'n_streams': 8}\n",
      "    skl fits RF:  170.81130695343018\n",
      "    skl total time:  171.1385612487793\n",
      "    skl acc:  0.99\n",
      "   acc_score_cuml  acc_score_skl  cu_fit_time  skl_fit_time\n",
      "0            0.99           0.99    68.059040     22.116517\n",
      "1            0.99           0.00    68.042398      0.000000\n",
      "2            0.99           0.99   316.582068     89.028547\n",
      "3            0.99           0.00   316.323621      0.000000\n",
      "4            0.99           0.99   626.513357    170.811307\n",
      "====>cuml====\n",
      "    cuml params:  {'n_estimators': 1000, 'max_depth': 8, 'n_bins': 16, 'split_algo': 1, 'n_streams': 10}\n",
      "    cuml model:  {'n_estimators': 1000, 'max_depth': 8, 'handle': <cuml.common.handle.Handle object at 0x7ff99bf36618>, 'max_features': 1.0, 'n_bins': 16, 'split_algo': 1, 'split_criterion': 0, 'min_rows_per_node': 2, 'bootstrap': True, 'bootstrap_features': False, 'verbose': False, 'rows_sample': 1.0, 'max_leaves': -1, 'quantile_per_tree': False}\n"
     ]
    },
    {
     "name": "stderr",
     "output_type": "stream",
     "text": [
      "/gpfs/fs1/rlan/anaconda3/envs/cuml_rf_bench/lib/python3.7/site-packages/ipykernel_launcher.py:28: UserWarning: Using NumPy for number of class detection,install CuPy for faster processing.\n"
     ]
    },
    {
     "name": "stdout",
     "output_type": "stream",
     "text": [
      "    cuml fits RF:  625.6281564235687\n",
      "    cuml total time:  630.6998109817505\n",
      "    cuml acc:  0.99\n",
      "   acc_score_cuml  acc_score_skl  cu_fit_time  skl_fit_time\n",
      "0            0.99           0.99    68.059040     22.116517\n",
      "1            0.99           0.00    68.042398      0.000000\n",
      "2            0.99           0.99   316.582068     89.028547\n",
      "3            0.99           0.00   316.323621      0.000000\n",
      "4            0.99           0.99   626.513357    170.811307\n",
      "5            0.99           0.00   625.628156      0.000000\n"
     ]
    }
   ],
   "source": [
    "estimator_array = [100, 500, 1000]\n",
    "stream_array = [8, 10]\n",
    "depth_array = [8, 12, 16]\n",
    "run_cuml = True\n",
    "run_skl = True \n",
    "skip_test = True \n",
    "csv_path = './rf_bench_results/rf_bench_bosch.csv'\n",
    "\n",
    "# use X_train_np, y_train_np for cuml as GPU data frame OOM \n",
    "# RuntimeError: Exception occured! file=/gpfs/fs1/rlan/rf_bench/cuml/cpp/src/decisiontree/quantile/quantile.cuh line=110: FAIL: call='cudaGetLastError()'. Reason:out of memory\n",
    "start_bench(run_cuml, run_skl, skip_test, estimator_array, stream_array, depth_array, csv_path, X_train_np, y_train_np, X_train_np, y_train_np, X_test_np, y_test_np)\n"
   ]
  },
  {
   "cell_type": "code",
   "execution_count": null,
   "metadata": {},
   "outputs": [],
   "source": []
  }
 ],
 "metadata": {
  "kernelspec": {
   "display_name": "Python 3",
   "language": "python",
   "name": "python3"
  },
  "language_info": {
   "codemirror_mode": {
    "name": "ipython",
    "version": 3
   },
   "file_extension": ".py",
   "mimetype": "text/x-python",
   "name": "python",
   "nbconvert_exporter": "python",
   "pygments_lexer": "ipython3",
   "version": "3.7.3"
  }
 },
 "nbformat": 4,
 "nbformat_minor": 2
}
